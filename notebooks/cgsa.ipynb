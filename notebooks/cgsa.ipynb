{
 "cells": [
  {
   "cell_type": "markdown",
   "metadata": {},
   "source": [
    "# Evaluation of CGSA Methods with Different Lexicons"
   ]
  },
  {
   "cell_type": "code",
   "execution_count": 8,
   "metadata": {},
   "outputs": [],
   "source": [
    "from __future__ import absolute_import, unicode_literals, print_function\n",
    "\n",
    "%matplotlib inline\n",
    "from collections import defaultdict\n",
    "from six import iteritems\n",
    "import pandas as pd\n",
    "import seaborn as sns"
   ]
  },
  {
   "cell_type": "code",
   "execution_count": 9,
   "metadata": {},
   "outputs": [],
   "source": [
    "CGSA_DICT_STAT = defaultdict(lambda: {\n",
    "    \"GPC\": {\"SB10K\": {\"micro-F1\": 0., \"macro-F1\": 0.},\n",
    "            \"PotTS\": {\"micro-F1\": 0., \"macro-F1\": 0.}},\n",
    "    \"ZRCH\": {\"SB10K\": {\"micro-F1\": 0., \"macro-F1\": 0.},\n",
    "        \"PotTS\": {\"micro-F1\": 0., \"macro-F1\": 0.}},\n",
    "    \"SWS\": {\"SB10K\": {\"micro-F1\": 0., \"macro-F1\": 0.},\n",
    "        \"PotTS\": {\"micro-F1\": 0., \"macro-F1\": 0.}},\n",
    "    \"HL\": {\"SB10K\": {\"micro-F1\": 0., \"macro-F1\": 0.},\n",
    "        \"PotTS\": {\"micro-F1\": 0., \"macro-F1\": 0.}},\n",
    "    \"BG\": {\"SB10K\": {\"micro-F1\": 0., \"macro-F1\": 0.},\n",
    "        \"PotTS\": {\"micro-F1\": 0., \"macro-F1\": 0.}},\n",
    "    \"KH\": {\"SB10K\": {\"micro-F1\": 0., \"macro-F1\": 0.},\n",
    "        \"PotTS\": {\"micro-F1\": 0., \"macro-F1\": 0.}},\n",
    "    \"ES\": {\"SB10K\": {\"micro-F1\": 0., \"macro-F1\": 0.},\n",
    "        \"PotTS\": {\"micro-F1\": 0., \"macro-F1\": 0.}},\n",
    "    \"RR$_{mincut}$\": {\"SB10K\": {\"micro-F1\": 0., \"macro-F1\": 0.},\n",
    "        \"PotTS\": {\"micro-F1\": 0., \"macro-F1\": 0.}},\n",
    "    \"RR$_{lblprop}$\": {\"SB10K\": {\"micro-F1\": 0., \"macro-F1\": 0.},\n",
    "        \"PotTS\": {\"micro-F1\": 0., \"macro-F1\": 0.}},\n",
    "    \"AR\": {\"SB10K\": {\"micro-F1\": 0., \"macro-F1\": 0.},\n",
    "        \"PotTS\": {\"micro-F1\": 0., \"macro-F1\": 0.}},\n",
    "    \"TKM\": {\"SB10K\": {\"micro-F1\": 0., \"macro-F1\": 0.},\n",
    "        \"PotTS\": {\"micro-F1\": 0., \"macro-F1\": 0.}},\n",
    "    \"VEL\": {\"SB10K\": {\"micro-F1\": 0., \"macro-F1\": 0.},\n",
    "        \"PotTS\": {\"micro-F1\": 0., \"macro-F1\": 0.}},\n",
    "    \"KIR\": {\"SB10K\": {\"micro-F1\": 0., \"macro-F1\": 0.},\n",
    "        \"PotTS\": {\"micro-F1\": 0., \"macro-F1\": 0.}},\n",
    "    \"SEV\": {\"SB10K\": {\"micro-F1\": 0., \"macro-F1\": 0.},\n",
    "        \"PotTS\": {\"micro-F1\": 0., \"macro-F1\": 0.}},\n",
    "    \"TNG\": {\"SB10K\": {\"micro-F1\": 0., \"macro-F1\": 0.},\n",
    "        \"PotTS\": {\"micro-F1\": 0., \"macro-F1\": 0.}},\n",
    "    \"VO\": {\"SB10K\": {\"micro-F1\": 0., \"macro-F1\": 0.},\n",
    "        \"PotTS\": {\"micro-F1\": 0., \"macro-F1\": 0.}},\n",
    "    \"NC\": {\"SB10K\": {\"micro-F1\": 0., \"macro-F1\": 0.},\n",
    "        \"PotTS\": {\"micro-F1\": 0., \"macro-F1\": 0.}},\n",
    "    \"$k$-NN\": {\"SB10K\": {\"micro-F1\": 0., \"macro-F1\": 0.},\n",
    "        \"PotTS\": {\"micro-F1\": 0., \"macro-F1\": 0.}},\n",
    "    \"PCA\": {\"SB10K\": {\"micro-F1\": 0., \"macro-F1\": 0.},\n",
    "        \"PotTS\": {\"micro-F1\": 0., \"macro-F1\": 0.}},\n",
    "    \"LP\": {\"SB10K\": {\"micro-F1\": 0., \"macro-F1\": 0.},\n",
    "        \"PotTS\": {\"micro-F1\": 0., \"macro-F1\": 0.}}\n",
    "})"
   ]
  },
  {
   "cell_type": "markdown",
   "metadata": {},
   "source": [
    "## Hu and Liu (2004)"
   ]
  },
  {
   "cell_type": "markdown",
   "metadata": {},
   "source": [
    "### PotTS"
   ]
  },
  {
   "cell_type": "code",
   "execution_count": 10,
   "metadata": {},
   "outputs": [],
   "source": [
    "# Hu and Liu (2004)\n",
    "CGSA_DICT_STAT[\"HL\"][\"AR\"][\"PotTS\"][\"macro-F1\"] = 0.4953\n",
    "CGSA_DICT_STAT[\"HL\"][\"AR\"][\"PotTS\"][\"micro-F1\"] = 0.659016\n",
    "CGSA_DICT_STAT[\"HL\"][\"BG\"][\"PotTS\"][\"macro-F1\"] = 0.5711\n",
    "CGSA_DICT_STAT[\"HL\"][\"BG\"][\"PotTS\"][\"micro-F1\"] = 0.664918\n",
    "CGSA_DICT_STAT[\"HL\"][\"ES\"][\"PotTS\"][\"macro-F1\"] = 0.4456\n",
    "CGSA_DICT_STAT[\"HL\"][\"ES\"][\"PotTS\"][\"micro-F1\"] = 0.458361\n",
    "CGSA_DICT_STAT[\"HL\"][\"GPC\"][\"PotTS\"][\"macro-F1\"] = 0.5409\n",
    "CGSA_DICT_STAT[\"HL\"][\"GPC\"][\"PotTS\"][\"micro-F1\"] = 0.561311\n",
    "CGSA_DICT_STAT[\"HL\"][\"HL\"][\"PotTS\"][\"macro-F1\"] = 0.5566\n",
    "CGSA_DICT_STAT[\"HL\"][\"HL\"][\"PotTS\"][\"micro-F1\"] = 0.686557\n",
    "CGSA_DICT_STAT[\"HL\"][\"KH\"][\"PotTS\"][\"macro-F1\"] = 0.5244\n",
    "CGSA_DICT_STAT[\"HL\"][\"KH\"][\"PotTS\"][\"micro-F1\"] = 0.672787\n",
    "CGSA_DICT_STAT[\"HL\"][\"KIR\"][\"PotTS\"][\"macro-F1\"] = 0.5189\n",
    "CGSA_DICT_STAT[\"HL\"][\"KIR\"][\"PotTS\"][\"micro-F1\"] = 0.580328\n",
    "CGSA_DICT_STAT[\"HL\"][\"$k$-NN\"][\"PotTS\"][\"macro-F1\"] = 0.4828\n",
    "CGSA_DICT_STAT[\"HL\"][\"$k$-NN\"][\"PotTS\"][\"micro-F1\"] = 0.480656\n",
    "CGSA_DICT_STAT[\"HL\"][\"LP\"][\"PotTS\"][\"macro-F1\"] = 0.4754\n",
    "CGSA_DICT_STAT[\"HL\"][\"LP\"][\"PotTS\"][\"micro-F1\"] = 0.451803\n",
    "CGSA_DICT_STAT[\"HL\"][\"NC\"][\"PotTS\"][\"macro-F1\"] = 0.3321\n",
    "CGSA_DICT_STAT[\"HL\"][\"NC\"][\"PotTS\"][\"micro-F1\"] = 0.328525\n",
    "CGSA_DICT_STAT[\"HL\"][\"PCA\"][\"PotTS\"][\"macro-F1\"] = 0.4114\n",
    "CGSA_DICT_STAT[\"HL\"][\"PCA\"][\"PotTS\"][\"micro-F1\"] = 0.450492\n",
    "CGSA_DICT_STAT[\"HL\"][\"RR$_{lblprop}$\"][\"PotTS\"][\"macro-F1\"] = 0.5429\n",
    "CGSA_DICT_STAT[\"HL\"][\"RR$_{lblprop}$\"][\"PotTS\"][\"micro-F1\"] = 0.673443\n",
    "CGSA_DICT_STAT[\"HL\"][\"RR$_{mincut}$\"][\"PotTS\"][\"macro-F1\"] = 0.4159\n",
    "CGSA_DICT_STAT[\"HL\"][\"RR$_{mincut}$\"][\"PotTS\"][\"micro-F1\"] = 0.447869\n",
    "CGSA_DICT_STAT[\"HL\"][\"SEV\"][\"PotTS\"][\"macro-F1\"] = 0.5443\n",
    "CGSA_DICT_STAT[\"HL\"][\"SEV\"][\"PotTS\"][\"micro-F1\"] = 0.628852\n",
    "CGSA_DICT_STAT[\"HL\"][\"SWS\"][\"PotTS\"][\"macro-F1\"] = 0.6478\n",
    "CGSA_DICT_STAT[\"HL\"][\"SWS\"][\"PotTS\"][\"micro-F1\"] = 0.701639\n",
    "CGSA_DICT_STAT[\"HL\"][\"TKM\"][\"PotTS\"][\"macro-F1\"] = 0.5257\n",
    "CGSA_DICT_STAT[\"HL\"][\"TKM\"][\"PotTS\"][\"micro-F1\"] = 0.597377\n",
    "CGSA_DICT_STAT[\"HL\"][\"TNG\"][\"PotTS\"][\"macro-F1\"] = 0.4505\n",
    "CGSA_DICT_STAT[\"HL\"][\"TNG\"][\"PotTS\"][\"micro-F1\"] = 0.427541\n",
    "CGSA_DICT_STAT[\"HL\"][\"VEL\"][\"PotTS\"][\"macro-F1\"] = 0.4065\n",
    "CGSA_DICT_STAT[\"HL\"][\"VEL\"][\"PotTS\"][\"micro-F1\"] = 0.425574\n",
    "CGSA_DICT_STAT[\"HL\"][\"VO\"][\"PotTS\"][\"macro-F1\"] = 0.507\n",
    "CGSA_DICT_STAT[\"HL\"][\"VO\"][\"PotTS\"][\"micro-F1\"] = 0.620328\n",
    "CGSA_DICT_STAT[\"HL\"][\"ZRCH\"][\"PotTS\"][\"macro-F1\"] = 0.6151\n",
    "CGSA_DICT_STAT[\"HL\"][\"ZRCH\"][\"PotTS\"][\"micro-F1\"] = 0.685246"
   ]
  },
  {
   "cell_type": "markdown",
   "metadata": {},
   "source": [
    "### SB10k"
   ]
  },
  {
   "cell_type": "code",
   "execution_count": 11,
   "metadata": {},
   "outputs": [],
   "source": [
    "# Hu and Liu (2004)\n",
    "CGSA_DICT_STAT[\"HL\"][\"AR\"][\"SB10K\"][\"macro-F1\"] = 0.3767\n",
    "CGSA_DICT_STAT[\"HL\"][\"AR\"][\"SB10K\"][\"micro-F1\"] = 0.689171\n",
    "CGSA_DICT_STAT[\"HL\"][\"BG\"][\"SB10K\"][\"macro-F1\"] = 0.4123\n",
    "CGSA_DICT_STAT[\"HL\"][\"BG\"][\"SB10K\"][\"micro-F1\"] = 0.659091\n",
    "CGSA_DICT_STAT[\"HL\"][\"ES\"][\"SB10K\"][\"macro-F1\"] = 0.337\n",
    "CGSA_DICT_STAT[\"HL\"][\"ES\"][\"SB10K\"][\"micro-F1\"] = 0.598262\n",
    "CGSA_DICT_STAT[\"HL\"][\"GPC\"][\"SB10K\"][\"macro-F1\"] = 0.3499\n",
    "CGSA_DICT_STAT[\"HL\"][\"GPC\"][\"SB10K\"][\"micro-F1\"] = 0.555481\n",
    "CGSA_DICT_STAT[\"HL\"][\"HL\"][\"SB10K\"][\"macro-F1\"] = 0.4175\n",
    "CGSA_DICT_STAT[\"HL\"][\"HL\"][\"SB10K\"][\"micro-F1\"] = 0.675802\n",
    "CGSA_DICT_STAT[\"HL\"][\"KH\"][\"SB10K\"][\"macro-F1\"] = 0.3988\n",
    "CGSA_DICT_STAT[\"HL\"][\"KH\"][\"SB10K\"][\"micro-F1\"] = 0.681150\n",
    "CGSA_DICT_STAT[\"HL\"][\"KIR\"][\"SB10K\"][\"macro-F1\"] = 0.3679\n",
    "CGSA_DICT_STAT[\"HL\"][\"KIR\"][\"SB10K\"][\"micro-F1\"] = 0.590909\n",
    "CGSA_DICT_STAT[\"HL\"][\"$k$-NN\"][\"SB10K\"][\"macro-F1\"] = 0.3738\n",
    "CGSA_DICT_STAT[\"HL\"][\"$k$-NN\"][\"SB10K\"][\"micro-F1\"] = 0.554813\n",
    "CGSA_DICT_STAT[\"HL\"][\"LP\"][\"SB10K\"][\"macro-F1\"] = 0.3672\n",
    "CGSA_DICT_STAT[\"HL\"][\"LP\"][\"SB10K\"][\"micro-F1\"] = 0.576203\n",
    "CGSA_DICT_STAT[\"HL\"][\"NC\"][\"SB10K\"][\"macro-F1\"] = 0.2461\n",
    "CGSA_DICT_STAT[\"HL\"][\"NC\"][\"SB10K\"][\"micro-F1\"] = 0.360294\n",
    "CGSA_DICT_STAT[\"HL\"][\"PCA\"][\"SB10K\"][\"macro-F1\"] = 0.2362\n",
    "CGSA_DICT_STAT[\"HL\"][\"PCA\"][\"SB10K\"][\"micro-F1\"] = 0.639037\n",
    "CGSA_DICT_STAT[\"HL\"][\"RR$_{lblprop}$\"][\"SB10K\"][\"macro-F1\"] = 0.3974\n",
    "CGSA_DICT_STAT[\"HL\"][\"RR$_{lblprop}$\"][\"SB10K\"][\"micro-F1\"] = 0.674465\n",
    "CGSA_DICT_STAT[\"HL\"][\"RR$_{mincut}$\"][\"SB10K\"][\"macro-F1\"] = 0.2563\n",
    "CGSA_DICT_STAT[\"HL\"][\"RR$_{mincut}$\"][\"SB10K\"][\"micro-F1\"] = 0.524733\n",
    "CGSA_DICT_STAT[\"HL\"][\"SEV\"][\"SB10K\"][\"macro-F1\"] = 0.3465\n",
    "CGSA_DICT_STAT[\"HL\"][\"SEV\"][\"SB10K\"][\"micro-F1\"] = 0.648396\n",
    "CGSA_DICT_STAT[\"HL\"][\"SWS\"][\"SB10K\"][\"macro-F1\"] = 0.4202\n",
    "CGSA_DICT_STAT[\"HL\"][\"SWS\"][\"SB10K\"][\"micro-F1\"] = 0.615642\n",
    "CGSA_DICT_STAT[\"HL\"][\"TKM\"][\"SB10K\"][\"macro-F1\"] = 0.4092\n",
    "CGSA_DICT_STAT[\"HL\"][\"TKM\"][\"SB10K\"][\"micro-F1\"] = 0.687166\n",
    "CGSA_DICT_STAT[\"HL\"][\"TNG\"][\"SB10K\"][\"macro-F1\"] = 0.332\n",
    "CGSA_DICT_STAT[\"HL\"][\"TNG\"][\"SB10K\"][\"micro-F1\"] = 0.506684\n",
    "CGSA_DICT_STAT[\"HL\"][\"VEL\"][\"SB10K\"][\"macro-F1\"] = 0.2791\n",
    "CGSA_DICT_STAT[\"HL\"][\"VEL\"][\"SB10K\"][\"micro-F1\"] = 0.483289\n",
    "CGSA_DICT_STAT[\"HL\"][\"VO\"][\"SB10K\"][\"macro-F1\"] = 0.3763\n",
    "CGSA_DICT_STAT[\"HL\"][\"VO\"][\"SB10K\"][\"micro-F1\"] = 0.620989\n",
    "CGSA_DICT_STAT[\"HL\"][\"ZRCH\"][\"SB10K\"][\"macro-F1\"] = 0.4209\n",
    "CGSA_DICT_STAT[\"HL\"][\"ZRCH\"][\"SB10K\"][\"micro-F1\"] = 0.576872"
   ]
  },
  {
   "cell_type": "markdown",
   "metadata": {},
   "source": [
    "## Taboada et al. (2011)"
   ]
  },
  {
   "cell_type": "markdown",
   "metadata": {},
   "source": [
    "### PotTS"
   ]
  },
  {
   "cell_type": "code",
   "execution_count": 12,
   "metadata": {},
   "outputs": [],
   "source": [
    "# Taboada et al. (2011)\n",
    "CGSA_DICT_STAT[\"TBD\"][\"AR\"][\"PotTS\"][\"macro-F1\"] = 0.4731\n",
    "CGSA_DICT_STAT[\"TBD\"][\"AR\"][\"PotTS\"][\"micro-F1\"] = 0.639344\n",
    "CGSA_DICT_STAT[\"TBD\"][\"BG\"][\"PotTS\"][\"macro-F1\"] = 0.5581\n",
    "CGSA_DICT_STAT[\"TBD\"][\"BG\"][\"PotTS\"][\"micro-F1\"] = 0.651803\n",
    "CGSA_DICT_STAT[\"TBD\"][\"ES\"][\"PotTS\"][\"macro-F1\"] = 0.4278\n",
    "CGSA_DICT_STAT[\"TBD\"][\"ES\"][\"PotTS\"][\"micro-F1\"] = 0.428852\n",
    "CGSA_DICT_STAT[\"TBD\"][\"GPC\"][\"PotTS\"][\"macro-F1\"] = 0.5215\n",
    "CGSA_DICT_STAT[\"TBD\"][\"GPC\"][\"PotTS\"][\"micro-F1\"] = 0.548852\n",
    "CGSA_DICT_STAT[\"TBD\"][\"HL\"][\"PotTS\"][\"macro-F1\"] = 0.5368\n",
    "CGSA_DICT_STAT[\"TBD\"][\"HL\"][\"PotTS\"][\"micro-F1\"] = 0.66623\n",
    "CGSA_DICT_STAT[\"TBD\"][\"KH\"][\"PotTS\"][\"macro-F1\"] = 0.5007\n",
    "CGSA_DICT_STAT[\"TBD\"][\"KH\"][\"PotTS\"][\"micro-F1\"] = 0.653115\n",
    "CGSA_DICT_STAT[\"TBD\"][\"KIR\"][\"PotTS\"][\"macro-F1\"] = 0.5147\n",
    "CGSA_DICT_STAT[\"TBD\"][\"KIR\"][\"PotTS\"][\"micro-F1\"] = 0.578361\n",
    "CGSA_DICT_STAT[\"TBD\"][\"$k$-NN\"][\"PotTS\"][\"macro-F1\"] = 0.4917\n",
    "CGSA_DICT_STAT[\"TBD\"][\"$k$-NN\"][\"PotTS\"][\"micro-F1\"] = 0.487869\n",
    "CGSA_DICT_STAT[\"TBD\"][\"LP\"][\"PotTS\"][\"macro-F1\"] = 0.4884\n",
    "CGSA_DICT_STAT[\"TBD\"][\"LP\"][\"PotTS\"][\"micro-F1\"] = 0.478033\n",
    "CGSA_DICT_STAT[\"TBD\"][\"NC\"][\"PotTS\"][\"macro-F1\"] = 0.3552\n",
    "CGSA_DICT_STAT[\"TBD\"][\"NC\"][\"PotTS\"][\"micro-F1\"] = 0.339672\n",
    "CGSA_DICT_STAT[\"TBD\"][\"PCA\"][\"PotTS\"][\"macro-F1\"] = 0.3876\n",
    "CGSA_DICT_STAT[\"TBD\"][\"PCA\"][\"PotTS\"][\"micro-F1\"] = 0.42623\n",
    "CGSA_DICT_STAT[\"TBD\"][\"RR$_{lblprop}$\"][\"PotTS\"][\"macro-F1\"] = 0.516\n",
    "CGSA_DICT_STAT[\"TBD\"][\"RR$_{lblprop}$\"][\"PotTS\"][\"micro-F1\"] = 0.64918\n",
    "CGSA_DICT_STAT[\"TBD\"][\"RR$_{mincut}$\"][\"PotTS\"][\"macro-F1\"] = 0.2557\n",
    "CGSA_DICT_STAT[\"TBD\"][\"RR$_{mincut}$\"][\"PotTS\"][\"micro-F1\"] = 0.325246\n",
    "CGSA_DICT_STAT[\"TBD\"][\"SEV\"][\"PotTS\"][\"macro-F1\"] = 0.5194\n",
    "CGSA_DICT_STAT[\"TBD\"][\"SEV\"][\"PotTS\"][\"micro-F1\"] = 0.601311\n",
    "CGSA_DICT_STAT[\"TBD\"][\"SWS\"][\"PotTS\"][\"macro-F1\"] = 0.625\n",
    "CGSA_DICT_STAT[\"TBD\"][\"SWS\"][\"PotTS\"][\"micro-F1\"] = 0.682623\n",
    "CGSA_DICT_STAT[\"TBD\"][\"TKM\"][\"PotTS\"][\"macro-F1\"] = 0.537\n",
    "CGSA_DICT_STAT[\"TBD\"][\"TKM\"][\"PotTS\"][\"micro-F1\"] = 0.586885\n",
    "CGSA_DICT_STAT[\"TBD\"][\"TNG\"][\"PotTS\"][\"macro-F1\"] = 0.4049\n",
    "CGSA_DICT_STAT[\"TBD\"][\"TNG\"][\"PotTS\"][\"micro-F1\"] = 0.411148\n",
    "CGSA_DICT_STAT[\"TBD\"][\"VEL\"][\"PotTS\"][\"macro-F1\"] = 0.391\n",
    "CGSA_DICT_STAT[\"TBD\"][\"VEL\"][\"PotTS\"][\"micro-F1\"] = 0.419672\n",
    "CGSA_DICT_STAT[\"TBD\"][\"VO\"][\"PotTS\"][\"macro-F1\"] = 0.4781\n",
    "CGSA_DICT_STAT[\"TBD\"][\"VO\"][\"PotTS\"][\"micro-F1\"] = 0.6\n",
    "CGSA_DICT_STAT[\"TBD\"][\"ZRCH\"][\"PotTS\"][\"macro-F1\"] = 0.5985\n",
    "CGSA_DICT_STAT[\"TBD\"][\"ZRCH\"][\"PotTS\"][\"micro-F1\"] = 0.67541"
   ]
  },
  {
   "cell_type": "markdown",
   "metadata": {},
   "source": [
    "### SB10k"
   ]
  },
  {
   "cell_type": "code",
   "execution_count": 13,
   "metadata": {},
   "outputs": [],
   "source": [
    "# Taboada et al. (2011)\n",
    "CGSA_DICT_STAT[\"TBD\"][\"AR\"][\"SB10K\"][\"macro-F1\"] = 0.3607\n",
    "CGSA_DICT_STAT[\"TBD\"][\"AR\"][\"SB10K\"][\"micro-F1\"] = 0.68984\n",
    "CGSA_DICT_STAT[\"TBD\"][\"BG\"][\"SB10K\"][\"macro-F1\"] = 0.3919\n",
    "CGSA_DICT_STAT[\"TBD\"][\"BG\"][\"SB10K\"][\"micro-F1\"] = 0.671791\n",
    "CGSA_DICT_STAT[\"TBD\"][\"ES\"][\"SB10K\"][\"macro-F1\"] = 0.3126\n",
    "CGSA_DICT_STAT[\"TBD\"][\"ES\"][\"SB10K\"][\"micro-F1\"] = 0.625\n",
    "CGSA_DICT_STAT[\"TBD\"][\"GPC\"][\"SB10K\"][\"macro-F1\"] = 0.3606\n",
    "CGSA_DICT_STAT[\"TBD\"][\"GPC\"][\"SB10K\"][\"micro-F1\"] = 0.582888\n",
    "CGSA_DICT_STAT[\"TBD\"][\"HL\"][\"SB10K\"][\"macro-F1\"] = 0.3973\n",
    "CGSA_DICT_STAT[\"TBD\"][\"HL\"][\"SB10K\"][\"micro-F1\"] = 0.684492\n",
    "CGSA_DICT_STAT[\"TBD\"][\"KH\"][\"SB10K\"][\"macro-F1\"] = 0.3877\n",
    "CGSA_DICT_STAT[\"TBD\"][\"KH\"][\"SB10K\"][\"micro-F1\"] = 0.695187\n",
    "CGSA_DICT_STAT[\"TBD\"][\"KIR\"][\"SB10K\"][\"macro-F1\"] = 0.3558\n",
    "CGSA_DICT_STAT[\"TBD\"][\"KIR\"][\"SB10K\"][\"micro-F1\"] = 0.608957\n",
    "CGSA_DICT_STAT[\"TBD\"][\"$k$-NN\"][\"SB10K\"][\"macro-F1\"] = 0.3798\n",
    "CGSA_DICT_STAT[\"TBD\"][\"$k$-NN\"][\"SB10K\"][\"micro-F1\"] = 0.581551\n",
    "CGSA_DICT_STAT[\"TBD\"][\"LP\"][\"SB10K\"][\"macro-F1\"] = 0.3605\n",
    "CGSA_DICT_STAT[\"TBD\"][\"LP\"][\"SB10K\"][\"micro-F1\"] = 0.616979\n",
    "CGSA_DICT_STAT[\"TBD\"][\"NC\"][\"SB10K\"][\"macro-F1\"] = 0.2101\n",
    "CGSA_DICT_STAT[\"TBD\"][\"NC\"][\"SB10K\"][\"micro-F1\"] = 0.554144\n",
    "CGSA_DICT_STAT[\"TBD\"][\"PCA\"][\"SB10K\"][\"macro-F1\"] = 0.268\n",
    "CGSA_DICT_STAT[\"TBD\"][\"PCA\"][\"SB10K\"][\"micro-F1\"] = 0.633021\n",
    "CGSA_DICT_STAT[\"TBD\"][\"RR$_{lblprop}$\"][\"SB10K\"][\"macro-F1\"] = 0.3852\n",
    "CGSA_DICT_STAT[\"TBD\"][\"RR$_{lblprop}$\"][\"SB10K\"][\"micro-F1\"] = 0.675134\n",
    "CGSA_DICT_STAT[\"TBD\"][\"RR$_{mincut}$\"][\"SB10K\"][\"macro-F1\"] = 0.2236\n",
    "CGSA_DICT_STAT[\"TBD\"][\"RR$_{mincut}$\"][\"SB10K\"][\"micro-F1\"] = 0.590241\n",
    "CGSA_DICT_STAT[\"TBD\"][\"SEV\"][\"SB10K\"][\"macro-F1\"] = 0.3318\n",
    "CGSA_DICT_STAT[\"TBD\"][\"SEV\"][\"SB10K\"][\"micro-F1\"] = 0.631016\n",
    "CGSA_DICT_STAT[\"TBD\"][\"SWS\"][\"SB10K\"][\"macro-F1\"] = 0.4096\n",
    "CGSA_DICT_STAT[\"TBD\"][\"SWS\"][\"SB10K\"][\"micro-F1\"] = 0.637032\n",
    "CGSA_DICT_STAT[\"TBD\"][\"TKM\"][\"SB10K\"][\"macro-F1\"] = 0.4241\n",
    "CGSA_DICT_STAT[\"TBD\"][\"TKM\"][\"SB10K\"][\"micro-F1\"] = 0.679813\n",
    "CGSA_DICT_STAT[\"TBD\"][\"TNG\"][\"SB10K\"][\"macro-F1\"] = 0.3401\n",
    "CGSA_DICT_STAT[\"TBD\"][\"TNG\"][\"SB10K\"][\"micro-F1\"] = 0.548128\n",
    "CGSA_DICT_STAT[\"TBD\"][\"VEL\"][\"SB10K\"][\"macro-F1\"] = 0.2478\n",
    "CGSA_DICT_STAT[\"TBD\"][\"VEL\"][\"SB10K\"][\"micro-F1\"] = 0.580214\n",
    "CGSA_DICT_STAT[\"TBD\"][\"VO\"][\"SB10K\"][\"macro-F1\"] = 0.3703\n",
    "CGSA_DICT_STAT[\"TBD\"][\"VO\"][\"SB10K\"][\"micro-F1\"] = 0.659759\n",
    "CGSA_DICT_STAT[\"TBD\"][\"ZRCH\"][\"SB10K\"][\"macro-F1\"] = 0.3911\n",
    "CGSA_DICT_STAT[\"TBD\"][\"ZRCH\"][\"SB10K\"][\"micro-F1\"] = 0.568182"
   ]
  },
  {
   "cell_type": "markdown",
   "metadata": {},
   "source": [
    "## Musto et al. (2014)"
   ]
  },
  {
   "cell_type": "markdown",
   "metadata": {},
   "source": [
    "### PotTS"
   ]
  },
  {
   "cell_type": "code",
   "execution_count": 14,
   "metadata": {},
   "outputs": [],
   "source": [
    "# Musto et al. (2014)\n",
    "CGSA_DICT_STAT[\"MST\"][\"AR\"][\"PotTS\"][\"macro-F1\"] = 0.465\n",
    "CGSA_DICT_STAT[\"MST\"][\"AR\"][\"PotTS\"][\"micro-F1\"] = 0.638689\n",
    "CGSA_DICT_STAT[\"MST\"][\"BG\"][\"PotTS\"][\"macro-F1\"] = 0.5615\n",
    "CGSA_DICT_STAT[\"MST\"][\"BG\"][\"PotTS\"][\"micro-F1\"] = 0.654426\n",
    "CGSA_DICT_STAT[\"MST\"][\"ES\"][\"PotTS\"][\"macro-F1\"] = 0.4321\n",
    "CGSA_DICT_STAT[\"MST\"][\"ES\"][\"PotTS\"][\"micro-F1\"] = 0.455738\n",
    "CGSA_DICT_STAT[\"MST\"][\"GPC\"][\"PotTS\"][\"macro-F1\"] = 0.4972\n",
    "CGSA_DICT_STAT[\"MST\"][\"GPC\"][\"PotTS\"][\"micro-F1\"] = 0.537705\n",
    "CGSA_DICT_STAT[\"MST\"][\"HL\"][\"PotTS\"][\"macro-F1\"] = 0.5377\n",
    "CGSA_DICT_STAT[\"MST\"][\"HL\"][\"PotTS\"][\"micro-F1\"] = 0.671475\n",
    "CGSA_DICT_STAT[\"MST\"][\"KH\"][\"PotTS\"][\"macro-F1\"] = 0.4839\n",
    "CGSA_DICT_STAT[\"MST\"][\"KH\"][\"PotTS\"][\"micro-F1\"] = 0.650492\n",
    "CGSA_DICT_STAT[\"MST\"][\"KIR\"][\"PotTS\"][\"macro-F1\"] = 0.4819\n",
    "CGSA_DICT_STAT[\"MST\"][\"KIR\"][\"PotTS\"][\"micro-F1\"] = 0.539672\n",
    "CGSA_DICT_STAT[\"MST\"][\"$k$-NN\"][\"PotTS\"][\"macro-F1\"] = 0.4746\n",
    "CGSA_DICT_STAT[\"MST\"][\"$k$-NN\"][\"PotTS\"][\"micro-F1\"] = 0.483279\n",
    "CGSA_DICT_STAT[\"MST\"][\"LP\"][\"PotTS\"][\"macro-F1\"] = 0.4733\n",
    "CGSA_DICT_STAT[\"MST\"][\"LP\"][\"PotTS\"][\"micro-F1\"] = 0.476066\n",
    "CGSA_DICT_STAT[\"MST\"][\"NC\"][\"PotTS\"][\"macro-F1\"] = 0.3707\n",
    "CGSA_DICT_STAT[\"MST\"][\"NC\"][\"PotTS\"][\"micro-F1\"] = 0.348852\n",
    "CGSA_DICT_STAT[\"MST\"][\"PCA\"][\"PotTS\"][\"macro-F1\"] = 0.4148\n",
    "CGSA_DICT_STAT[\"MST\"][\"PCA\"][\"PotTS\"][\"micro-F1\"] = 0.456393\n",
    "CGSA_DICT_STAT[\"MST\"][\"RR$_{lblprop}$\"][\"PotTS\"][\"macro-F1\"] = 0.5174\n",
    "CGSA_DICT_STAT[\"MST\"][\"RR$_{lblprop}$\"][\"PotTS\"][\"micro-F1\"] = 0.649836\n",
    "CGSA_DICT_STAT[\"MST\"][\"RR$_{mincut}$\"][\"PotTS\"][\"macro-F1\"] = 0.4558\n",
    "CGSA_DICT_STAT[\"MST\"][\"RR$_{mincut}$\"][\"PotTS\"][\"micro-F1\"] = 0.524590\n",
    "CGSA_DICT_STAT[\"MST\"][\"SEV\"][\"PotTS\"][\"macro-F1\"] = 0.5098\n",
    "CGSA_DICT_STAT[\"MST\"][\"SEV\"][\"PotTS\"][\"micro-F1\"] = 0.603279\n",
    "CGSA_DICT_STAT[\"MST\"][\"SWS\"][\"PotTS\"][\"macro-F1\"] = 0.6116\n",
    "CGSA_DICT_STAT[\"MST\"][\"SWS\"][\"PotTS\"][\"micro-F1\"] = 0.676066\n",
    "CGSA_DICT_STAT[\"MST\"][\"TKM\"][\"PotTS\"][\"macro-F1\"] = 0.5242\n",
    "CGSA_DICT_STAT[\"MST\"][\"TKM\"][\"PotTS\"][\"micro-F1\"] = 0.61377\n",
    "CGSA_DICT_STAT[\"MST\"][\"TNG\"][\"PotTS\"][\"macro-F1\"] = 0.4466\n",
    "CGSA_DICT_STAT[\"MST\"][\"TNG\"][\"PotTS\"][\"micro-F1\"] = 0.464262\n",
    "CGSA_DICT_STAT[\"MST\"][\"VEL\"][\"PotTS\"][\"macro-F1\"] = 0.3826\n",
    "CGSA_DICT_STAT[\"MST\"][\"VEL\"][\"PotTS\"][\"micro-F1\"] = 0.407213\n",
    "CGSA_DICT_STAT[\"MST\"][\"VO\"][\"PotTS\"][\"macro-F1\"] = 0.4941\n",
    "CGSA_DICT_STAT[\"MST\"][\"VO\"][\"PotTS\"][\"micro-F1\"] = 0.607213\n",
    "CGSA_DICT_STAT[\"MST\"][\"ZRCH\"][\"PotTS\"][\"macro-F1\"] = 0.6056\n",
    "CGSA_DICT_STAT[\"MST\"][\"ZRCH\"][\"PotTS\"][\"micro-F1\"] = 0.67541"
   ]
  },
  {
   "cell_type": "markdown",
   "metadata": {},
   "source": [
    "### SB10k"
   ]
  },
  {
   "cell_type": "code",
   "execution_count": 15,
   "metadata": {},
   "outputs": [],
   "source": [
    "# Musto et al. (2014)\n",
    "CGSA_DICT_STAT[\"MST\"][\"AR\"][\"SB10K\"][\"macro-F1\"] = 0.3894\n",
    "CGSA_DICT_STAT[\"MST\"][\"AR\"][\"SB10K\"][\"micro-F1\"] = 0.689171\n",
    "CGSA_DICT_STAT[\"MST\"][\"BG\"][\"SB10K\"][\"macro-F1\"] = 0.4273\n",
    "CGSA_DICT_STAT[\"MST\"][\"BG\"][\"SB10K\"][\"micro-F1\"] = 0.670455\n",
    "CGSA_DICT_STAT[\"MST\"][\"ES\"][\"SB10K\"][\"macro-F1\"] = 0.3349\n",
    "CGSA_DICT_STAT[\"MST\"][\"ES\"][\"SB10K\"][\"micro-F1\"] = 0.576203\n",
    "CGSA_DICT_STAT[\"MST\"][\"GPC\"][\"SB10K\"][\"macro-F1\"] = 0.3003\n",
    "CGSA_DICT_STAT[\"MST\"][\"GPC\"][\"SB10K\"][\"micro-F1\"] = 0.554813\n",
    "CGSA_DICT_STAT[\"MST\"][\"HL\"][\"SB10K\"][\"macro-F1\"] = 0.416\n",
    "CGSA_DICT_STAT[\"MST\"][\"HL\"][\"SB10K\"][\"micro-F1\"] = 0.671123\n",
    "CGSA_DICT_STAT[\"MST\"][\"KH\"][\"SB10K\"][\"macro-F1\"] = 0.4041\n",
    "CGSA_DICT_STAT[\"MST\"][\"KH\"][\"SB10K\"][\"micro-F1\"] = 0.687834\n",
    "CGSA_DICT_STAT[\"MST\"][\"KIR\"][\"SB10K\"][\"macro-F1\"] = 0.3606\n",
    "CGSA_DICT_STAT[\"MST\"][\"KIR\"][\"SB10K\"][\"micro-F1\"] = 0.529412\n",
    "CGSA_DICT_STAT[\"MST\"][\"$k$-NN\"][\"SB10K\"][\"macro-F1\"] = 0.3628\n",
    "CGSA_DICT_STAT[\"MST\"][\"$k$-NN\"][\"SB10K\"][\"micro-F1\"] = 0.560160\n",
    "CGSA_DICT_STAT[\"MST\"][\"LP\"][\"SB10K\"][\"macro-F1\"] = 0.3469\n",
    "CGSA_DICT_STAT[\"MST\"][\"LP\"][\"SB10K\"][\"micro-F1\"] = 0.504011\n",
    "CGSA_DICT_STAT[\"MST\"][\"NC\"][\"SB10K\"][\"macro-F1\"] = 0.1776\n",
    "CGSA_DICT_STAT[\"MST\"][\"NC\"][\"SB10K\"][\"micro-F1\"] = 0.452540\n",
    "CGSA_DICT_STAT[\"MST\"][\"PCA\"][\"SB10K\"][\"macro-F1\"] = 0.24\n",
    "CGSA_DICT_STAT[\"MST\"][\"PCA\"][\"SB10K\"][\"micro-F1\"] = 0.635027\n",
    "CGSA_DICT_STAT[\"MST\"][\"RR$_{lblprop}$\"][\"SB10K\"][\"macro-F1\"] = 0.4051\n",
    "CGSA_DICT_STAT[\"MST\"][\"RR$_{lblprop}$\"][\"SB10K\"][\"micro-F1\"] = 0.665775\n",
    "CGSA_DICT_STAT[\"MST\"][\"RR$_{mincut}$\"][\"SB10K\"][\"macro-F1\"] = 0.3371\n",
    "CGSA_DICT_STAT[\"MST\"][\"RR$_{mincut}$\"][\"SB10K\"][\"micro-F1\"] = 0.564840\n",
    "CGSA_DICT_STAT[\"MST\"][\"SEV\"][\"SB10K\"][\"macro-F1\"] = 0.364\n",
    "CGSA_DICT_STAT[\"MST\"][\"SEV\"][\"SB10K\"][\"micro-F1\"] = 0.688503\n",
    "CGSA_DICT_STAT[\"MST\"][\"SWS\"][\"SB10K\"][\"macro-F1\"] = 0.412\n",
    "CGSA_DICT_STAT[\"MST\"][\"SWS\"][\"SB10K\"][\"micro-F1\"] = 0.584893\n",
    "CGSA_DICT_STAT[\"MST\"][\"TKM\"][\"SB10K\"][\"macro-F1\"] = 0.4335\n",
    "CGSA_DICT_STAT[\"MST\"][\"TKM\"][\"SB10K\"][\"micro-F1\"] = 0.671791\n",
    "CGSA_DICT_STAT[\"MST\"][\"TNG\"][\"SB10K\"][\"macro-F1\"] = 0.2872\n",
    "CGSA_DICT_STAT[\"MST\"][\"TNG\"][\"SB10K\"][\"micro-F1\"] = 0.47861\n",
    "CGSA_DICT_STAT[\"MST\"][\"VEL\"][\"SB10K\"][\"macro-F1\"] = 0.2762\n",
    "CGSA_DICT_STAT[\"MST\"][\"VEL\"][\"SB10K\"][\"micro-F1\"] = 0.493316\n",
    "CGSA_DICT_STAT[\"MST\"][\"VO\"][\"SB10K\"][\"macro-F1\"] = 0.4069\n",
    "CGSA_DICT_STAT[\"MST\"][\"VO\"][\"SB10K\"][\"micro-F1\"] = 0.656417\n",
    "CGSA_DICT_STAT[\"MST\"][\"ZRCH\"][\"SB10K\"][\"macro-F1\"] = 0.3954\n",
    "CGSA_DICT_STAT[\"MST\"][\"ZRCH\"][\"SB10K\"][\"micro-F1\"] = 0.567513"
   ]
  },
  {
   "cell_type": "markdown",
   "metadata": {},
   "source": [
    "## Jurek et al. (2015)"
   ]
  },
  {
   "cell_type": "markdown",
   "metadata": {},
   "source": [
    "### PotTS"
   ]
  },
  {
   "cell_type": "code",
   "execution_count": 16,
   "metadata": {},
   "outputs": [],
   "source": [
    "# Jurek et al. (2015)\n",
    "CGSA_DICT_STAT[\"JRK\"][\"AR\"][\"PotTS\"][\"macro-F1\"] = 0.1042\n",
    "CGSA_DICT_STAT[\"JRK\"][\"AR\"][\"PotTS\"][\"micro-F1\"] = 0.401311\n",
    "CGSA_DICT_STAT[\"JRK\"][\"BG\"][\"PotTS\"][\"macro-F1\"] = 0.3535\n",
    "CGSA_DICT_STAT[\"JRK\"][\"BG\"][\"PotTS\"][\"micro-F1\"] = 0.460984\n",
    "CGSA_DICT_STAT[\"JRK\"][\"ES\"][\"PotTS\"][\"macro-F1\"] = 0.3523\n",
    "CGSA_DICT_STAT[\"JRK\"][\"ES\"][\"PotTS\"][\"micro-F1\"] = 0.338361\n",
    "CGSA_DICT_STAT[\"JRK\"][\"GPC\"][\"PotTS\"][\"macro-F1\"] = 0.4438\n",
    "CGSA_DICT_STAT[\"JRK\"][\"GPC\"][\"PotTS\"][\"micro-F1\"] = 0.457705\n",
    "CGSA_DICT_STAT[\"JRK\"][\"HL\"][\"PotTS\"][\"macro-F1\"] = 0.2451\n",
    "CGSA_DICT_STAT[\"JRK\"][\"HL\"][\"PotTS\"][\"micro-F1\"] = 0.449836\n",
    "CGSA_DICT_STAT[\"JRK\"][\"KH\"][\"PotTS\"][\"macro-F1\"] = 0.1529\n",
    "CGSA_DICT_STAT[\"JRK\"][\"KH\"][\"PotTS\"][\"micro-F1\"] = 0.419016\n",
    "CGSA_DICT_STAT[\"JRK\"][\"KIR\"][\"PotTS\"][\"macro-F1\"] = 0.4117\n",
    "CGSA_DICT_STAT[\"JRK\"][\"KIR\"][\"PotTS\"][\"micro-F1\"] = 0.398033\n",
    "CGSA_DICT_STAT[\"JRK\"][\"$k$-NN\"][\"PotTS\"][\"macro-F1\"] = 0.35\n",
    "CGSA_DICT_STAT[\"JRK\"][\"$k$-NN\"][\"PotTS\"][\"micro-F1\"] = 0.330492\n",
    "CGSA_DICT_STAT[\"JRK\"][\"LP\"][\"PotTS\"][\"macro-F1\"] = 0.3539\n",
    "CGSA_DICT_STAT[\"JRK\"][\"LP\"][\"PotTS\"][\"micro-F1\"] = 0.36918\n",
    "CGSA_DICT_STAT[\"JRK\"][\"NC\"][\"PotTS\"][\"macro-F1\"] = 0.3314\n",
    "CGSA_DICT_STAT[\"JRK\"][\"NC\"][\"PotTS\"][\"micro-F1\"] = 0.359344\n",
    "CGSA_DICT_STAT[\"JRK\"][\"PCA\"][\"PotTS\"][\"macro-F1\"] = 0.353\n",
    "CGSA_DICT_STAT[\"JRK\"][\"PCA\"][\"PotTS\"][\"micro-F1\"] = 0.356066\n",
    "CGSA_DICT_STAT[\"JRK\"][\"RR$_{lblprop}$\"][\"PotTS\"][\"macro-F1\"] = 0.1842\n",
    "CGSA_DICT_STAT[\"JRK\"][\"RR$_{lblprop}$\"][\"PotTS\"][\"micro-F1\"] = 0.417049\n",
    "CGSA_DICT_STAT[\"JRK\"][\"RR$_{mincut}$\"][\"PotTS\"][\"macro-F1\"] = 0.3402\n",
    "CGSA_DICT_STAT[\"JRK\"][\"RR$_{mincut}$\"][\"PotTS\"][\"micro-F1\"] = 0.317377\n",
    "CGSA_DICT_STAT[\"JRK\"][\"SEV\"][\"PotTS\"][\"macro-F1\"] = 0.3845\n",
    "CGSA_DICT_STAT[\"JRK\"][\"SEV\"][\"PotTS\"][\"micro-F1\"] = 0.356066\n",
    "CGSA_DICT_STAT[\"JRK\"][\"SWS\"][\"PotTS\"][\"macro-F1\"] = 0.3772\n",
    "CGSA_DICT_STAT[\"JRK\"][\"SWS\"][\"PotTS\"][\"micro-F1\"] = 0.45377\n",
    "CGSA_DICT_STAT[\"JRK\"][\"TKM\"][\"PotTS\"][\"macro-F1\"] = 0.3889\n",
    "CGSA_DICT_STAT[\"JRK\"][\"TKM\"][\"PotTS\"][\"micro-F1\"] = 0.377049\n",
    "CGSA_DICT_STAT[\"JRK\"][\"TNG\"][\"PotTS\"][\"macro-F1\"] = 0.3991\n",
    "CGSA_DICT_STAT[\"JRK\"][\"TNG\"][\"PotTS\"][\"micro-F1\"] = 0.4\n",
    "CGSA_DICT_STAT[\"JRK\"][\"VEL\"][\"PotTS\"][\"macro-F1\"] = 0.3917\n",
    "CGSA_DICT_STAT[\"JRK\"][\"VEL\"][\"PotTS\"][\"micro-F1\"] = 0.360656\n",
    "CGSA_DICT_STAT[\"JRK\"][\"VO\"][\"PotTS\"][\"macro-F1\"] = 0.3297\n",
    "CGSA_DICT_STAT[\"JRK\"][\"VO\"][\"PotTS\"][\"micro-F1\"] = 0.327869\n",
    "CGSA_DICT_STAT[\"JRK\"][\"ZRCH\"][\"PotTS\"][\"macro-F1\"] = 0.3394\n",
    "CGSA_DICT_STAT[\"JRK\"][\"ZRCH\"][\"PotTS\"][\"micro-F1\"] = 0.466885"
   ]
  },
  {
   "cell_type": "markdown",
   "metadata": {},
   "source": [
    "### SB10k"
   ]
  },
  {
   "cell_type": "code",
   "execution_count": 17,
   "metadata": {},
   "outputs": [],
   "source": [
    "# Jurek et al. (2015)\n",
    "CGSA_DICT_STAT[\"JRK\"][\"AR\"][\"SB10K\"][\"macro-F1\"] = 0.1819\n",
    "CGSA_DICT_STAT[\"JRK\"][\"AR\"][\"SB10K\"][\"micro-F1\"] = 0.619652\n",
    "CGSA_DICT_STAT[\"JRK\"][\"BG\"][\"SB10K\"][\"macro-F1\"] = 0.2826\n",
    "CGSA_DICT_STAT[\"JRK\"][\"BG\"][\"SB10K\"][\"micro-F1\"] = 0.568182\n",
    "CGSA_DICT_STAT[\"JRK\"][\"ES\"][\"SB10K\"][\"macro-F1\"] = 0.2583\n",
    "CGSA_DICT_STAT[\"JRK\"][\"ES\"][\"SB10K\"][\"micro-F1\"] = 0.468583\n",
    "CGSA_DICT_STAT[\"JRK\"][\"GPC\"][\"SB10K\"][\"macro-F1\"] = 0.3167\n",
    "CGSA_DICT_STAT[\"JRK\"][\"GPC\"][\"SB10K\"][\"micro-F1\"] = 0.530749\n",
    "CGSA_DICT_STAT[\"JRK\"][\"HL\"][\"SB10K\"][\"macro-F1\"] = 0.2673\n",
    "CGSA_DICT_STAT[\"JRK\"][\"HL\"][\"SB10K\"][\"micro-F1\"] = 0.610963\n",
    "CGSA_DICT_STAT[\"JRK\"][\"KH\"][\"SB10K\"][\"macro-F1\"] = 0.2342\n",
    "CGSA_DICT_STAT[\"JRK\"][\"KH\"][\"SB10K\"][\"micro-F1\"] = 0.621658\n",
    "CGSA_DICT_STAT[\"JRK\"][\"KIR\"][\"SB10K\"][\"macro-F1\"] = 0.2422\n",
    "CGSA_DICT_STAT[\"JRK\"][\"KIR\"][\"SB10K\"][\"micro-F1\"] = 0.492647\n",
    "CGSA_DICT_STAT[\"JRK\"][\"$k$-NN\"][\"SB10K\"][\"macro-F1\"] = 0.2682\n",
    "CGSA_DICT_STAT[\"JRK\"][\"$k$-NN\"][\"SB10K\"][\"micro-F1\"] = 0.506684\n",
    "CGSA_DICT_STAT[\"JRK\"][\"LP\"][\"SB10K\"][\"macro-F1\"] = 0.2387\n",
    "CGSA_DICT_STAT[\"JRK\"][\"LP\"][\"SB10K\"][\"micro-F1\"] = 0.449198\n",
    "CGSA_DICT_STAT[\"JRK\"][\"NC\"][\"SB10K\"][\"macro-F1\"] = 0.285\n",
    "CGSA_DICT_STAT[\"JRK\"][\"NC\"][\"SB10K\"][\"micro-F1\"] = 0.548128\n",
    "CGSA_DICT_STAT[\"JRK\"][\"PCA\"][\"SB10K\"][\"macro-F1\"] = 0.161\n",
    "CGSA_DICT_STAT[\"JRK\"][\"PCA\"][\"SB10K\"][\"micro-F1\"] = 0.503342\n",
    "CGSA_DICT_STAT[\"JRK\"][\"RR$_{lblprop}$\"][\"SB10K\"][\"macro-F1\"] = 0.2473\n",
    "CGSA_DICT_STAT[\"JRK\"][\"RR$_{lblprop}$\"][\"SB10K\"][\"micro-F1\"] = 0.606952\n",
    "CGSA_DICT_STAT[\"JRK\"][\"RR$_{mincut}$\"][\"SB10K\"][\"macro-F1\"] = 0.2686\n",
    "CGSA_DICT_STAT[\"JRK\"][\"RR$_{mincut}$\"][\"SB10K\"][\"micro-F1\"] = 0.560829\n",
    "CGSA_DICT_STAT[\"JRK\"][\"SEV\"][\"SB10K\"][\"macro-F1\"] = 0.2517\n",
    "CGSA_DICT_STAT[\"JRK\"][\"SEV\"][\"SB10K\"][\"micro-F1\"] = 0.487968\n",
    "CGSA_DICT_STAT[\"JRK\"][\"SWS\"][\"SB10K\"][\"macro-F1\"] = 0.3403\n",
    "CGSA_DICT_STAT[\"JRK\"][\"SWS\"][\"SB10K\"][\"micro-F1\"] = 0.584225\n",
    "CGSA_DICT_STAT[\"JRK\"][\"TKM\"][\"SB10K\"][\"macro-F1\"] = 0.254\n",
    "CGSA_DICT_STAT[\"JRK\"][\"TKM\"][\"SB10K\"][\"micro-F1\"] = 0.536096\n",
    "CGSA_DICT_STAT[\"JRK\"][\"TNG\"][\"SB10K\"][\"macro-F1\"] = 0.3178\n",
    "CGSA_DICT_STAT[\"JRK\"][\"TNG\"][\"SB10K\"][\"micro-F1\"] = 0.491979\n",
    "CGSA_DICT_STAT[\"JRK\"][\"VEL\"][\"SB10K\"][\"macro-F1\"] = 0.2816\n",
    "CGSA_DICT_STAT[\"JRK\"][\"VEL\"][\"SB10K\"][\"micro-F1\"] = 0.514706\n",
    "CGSA_DICT_STAT[\"JRK\"][\"VO\"][\"SB10K\"][\"macro-F1\"] = 0.2734\n",
    "CGSA_DICT_STAT[\"JRK\"][\"VO\"][\"SB10K\"][\"micro-F1\"] = 0.473262\n",
    "CGSA_DICT_STAT[\"JRK\"][\"ZRCH\"][\"SB10K\"][\"macro-F1\"] = 0.3506\n",
    "CGSA_DICT_STAT[\"JRK\"][\"ZRCH\"][\"SB10K\"][\"micro-F1\"] = 0.592246"
   ]
  },
  {
   "cell_type": "markdown",
   "metadata": {},
   "source": [
    "## Kolchyna et al. (2015)"
   ]
  },
  {
   "cell_type": "markdown",
   "metadata": {},
   "source": [
    "### PotTS"
   ]
  },
  {
   "cell_type": "code",
   "execution_count": 18,
   "metadata": {},
   "outputs": [],
   "source": [
    "# Kolchyna et al. (2015)\n",
    "CGSA_DICT_STAT[\"KLCH\"][\"AR\"][\"PotTS\"][\"macro-F1\"] = 0.3907\n",
    "CGSA_DICT_STAT[\"KLCH\"][\"AR\"][\"PotTS\"][\"micro-F1\"] = 0.641967\n",
    "CGSA_DICT_STAT[\"KLCH\"][\"BG\"][\"PotTS\"][\"macro-F1\"] = 0.4803\n",
    "CGSA_DICT_STAT[\"KLCH\"][\"BG\"][\"PotTS\"][\"micro-F1\"] = 0.44918\n",
    "CGSA_DICT_STAT[\"KLCH\"][\"ES\"][\"PotTS\"][\"macro-F1\"] = 0.3744\n",
    "CGSA_DICT_STAT[\"KLCH\"][\"ES\"][\"PotTS\"][\"micro-F1\"] = 0.438689\n",
    "CGSA_DICT_STAT[\"KLCH\"][\"GPC\"][\"PotTS\"][\"macro-F1\"] = 0.4538\n",
    "CGSA_DICT_STAT[\"KLCH\"][\"GPC\"][\"PotTS\"][\"micro-F1\"] = 0.519344\n",
    "CGSA_DICT_STAT[\"KLCH\"][\"HL\"][\"PotTS\"][\"macro-F1\"] = 0.445\n",
    "CGSA_DICT_STAT[\"KLCH\"][\"HL\"][\"PotTS\"][\"micro-F1\"] = 0.660328\n",
    "CGSA_DICT_STAT[\"KLCH\"][\"KH\"][\"PotTS\"][\"macro-F1\"] = 0.5339\n",
    "CGSA_DICT_STAT[\"KLCH\"][\"KH\"][\"PotTS\"][\"micro-F1\"] = 0.437377\n",
    "CGSA_DICT_STAT[\"KLCH\"][\"KIR\"][\"PotTS\"][\"macro-F1\"] = 0.3601\n",
    "CGSA_DICT_STAT[\"KLCH\"][\"KIR\"][\"PotTS\"][\"micro-F1\"] = 0.425574\n",
    "CGSA_DICT_STAT[\"KLCH\"][\"$k$-NN\"][\"PotTS\"][\"macro-F1\"] = 0.3693\n",
    "CGSA_DICT_STAT[\"KLCH\"][\"$k$-NN\"][\"PotTS\"][\"micro-F1\"] = 0.432131\n",
    "CGSA_DICT_STAT[\"KLCH\"][\"LP\"][\"PotTS\"][\"macro-F1\"] = 0.3839\n",
    "CGSA_DICT_STAT[\"KLCH\"][\"LP\"][\"PotTS\"][\"micro-F1\"] = 0.430164\n",
    "CGSA_DICT_STAT[\"KLCH\"][\"NC\"][\"PotTS\"][\"macro-F1\"] = 0.3753\n",
    "CGSA_DICT_STAT[\"KLCH\"][\"NC\"][\"PotTS\"][\"micro-F1\"] = 0.421639\n",
    "CGSA_DICT_STAT[\"KLCH\"][\"PCA\"][\"PotTS\"][\"macro-F1\"] = 0.3813\n",
    "CGSA_DICT_STAT[\"KLCH\"][\"PCA\"][\"PotTS\"][\"micro-F1\"] = 0.431475\n",
    "CGSA_DICT_STAT[\"KLCH\"][\"RR$_{lblprop}$\"][\"PotTS\"][\"macro-F1\"] = 0.4115\n",
    "CGSA_DICT_STAT[\"KLCH\"][\"RR$_{lblprop}$\"][\"PotTS\"][\"micro-F1\"] = 0.651148\n",
    "CGSA_DICT_STAT[\"KLCH\"][\"RR$_{mincut}$\"][\"PotTS\"][\"macro-F1\"] = 0.3648\n",
    "CGSA_DICT_STAT[\"KLCH\"][\"RR$_{mincut}$\"][\"PotTS\"][\"micro-F1\"] = 0.471475\n",
    "CGSA_DICT_STAT[\"KLCH\"][\"SEV\"][\"PotTS\"][\"macro-F1\"] = 0.3785\n",
    "CGSA_DICT_STAT[\"KLCH\"][\"SEV\"][\"PotTS\"][\"micro-F1\"] = 0.432787\n",
    "CGSA_DICT_STAT[\"KLCH\"][\"SWS\"][\"PotTS\"][\"macro-F1\"] = 0.4818\n",
    "CGSA_DICT_STAT[\"KLCH\"][\"SWS\"][\"PotTS\"][\"micro-F1\"] = 0.645902\n",
    "CGSA_DICT_STAT[\"KLCH\"][\"TKM\"][\"PotTS\"][\"macro-F1\"] = 0.371\n",
    "CGSA_DICT_STAT[\"KLCH\"][\"TKM\"][\"PotTS\"][\"micro-F1\"] = 0.416393\n",
    "CGSA_DICT_STAT[\"KLCH\"][\"TNG\"][\"PotTS\"][\"macro-F1\"] = 0.3751\n",
    "CGSA_DICT_STAT[\"KLCH\"][\"TNG\"][\"PotTS\"][\"micro-F1\"] = 0.431475\n",
    "CGSA_DICT_STAT[\"KLCH\"][\"VEL\"][\"PotTS\"][\"macro-F1\"] = 0.3539\n",
    "CGSA_DICT_STAT[\"KLCH\"][\"VEL\"][\"PotTS\"][\"micro-F1\"] = 0.407869\n",
    "CGSA_DICT_STAT[\"KLCH\"][\"VO\"][\"PotTS\"][\"macro-F1\"] = 0.38\n",
    "CGSA_DICT_STAT[\"KLCH\"][\"VO\"][\"PotTS\"][\"micro-F1\"] = 0.415082\n",
    "CGSA_DICT_STAT[\"KLCH\"][\"ZRCH\"][\"PotTS\"][\"macro-F1\"] = 0.4676\n",
    "CGSA_DICT_STAT[\"KLCH\"][\"ZRCH\"][\"PotTS\"][\"micro-F1\"] = 0.651148"
   ]
  },
  {
   "cell_type": "markdown",
   "metadata": {},
   "source": [
    "### SB10k"
   ]
  },
  {
   "cell_type": "code",
   "execution_count": 19,
   "metadata": {},
   "outputs": [],
   "source": [
    "# Kolchyna et al. (2015)\n",
    "CGSA_DICT_STAT[\"KLCH\"][\"AR\"][\"SB10K\"][\"macro-F1\"] = 0.2764\n",
    "CGSA_DICT_STAT[\"KLCH\"][\"AR\"][\"SB10K\"][\"micro-F1\"] = 0.700535\n",
    "CGSA_DICT_STAT[\"KLCH\"][\"BG\"][\"SB10K\"][\"macro-F1\"] = 0.3239\n",
    "CGSA_DICT_STAT[\"KLCH\"][\"BG\"][\"SB10K\"][\"micro-F1\"] = 0.616979\n",
    "CGSA_DICT_STAT[\"KLCH\"][\"ES\"][\"SB10K\"][\"macro-F1\"] = 0.1997\n",
    "CGSA_DICT_STAT[\"KLCH\"][\"ES\"][\"SB10K\"][\"micro-F1\"] = 0.546123\n",
    "CGSA_DICT_STAT[\"KLCH\"][\"GPC\"][\"SB10K\"][\"macro-F1\"] = 0.219\n",
    "CGSA_DICT_STAT[\"KLCH\"][\"GPC\"][\"SB10K\"][\"micro-F1\"] = 0.548128\n",
    "CGSA_DICT_STAT[\"KLCH\"][\"HL\"][\"SB10K\"][\"macro-F1\"] = 0.3254\n",
    "CGSA_DICT_STAT[\"KLCH\"][\"HL\"][\"SB10K\"][\"micro-F1\"] = 0.670455\n",
    "CGSA_DICT_STAT[\"KLCH\"][\"KH\"][\"SB10K\"][\"macro-F1\"] = 0.3081\n",
    "CGSA_DICT_STAT[\"KLCH\"][\"KH\"][\"SB10K\"][\"micro-F1\"] = 0.697193\n",
    "CGSA_DICT_STAT[\"KLCH\"][\"KIR\"][\"SB10K\"][\"macro-F1\"] = 0.2346\n",
    "CGSA_DICT_STAT[\"KLCH\"][\"KIR\"][\"SB10K\"][\"micro-F1\"] = 0.477273\n",
    "CGSA_DICT_STAT[\"KLCH\"][\"$k$-NN\"][\"SB10K\"][\"macro-F1\"] = 0.2089\n",
    "CGSA_DICT_STAT[\"KLCH\"][\"$k$-NN\"][\"SB10K\"][\"micro-F1\"] = 0.535428\n",
    "CGSA_DICT_STAT[\"KLCH\"][\"LP\"][\"SB10K\"][\"macro-F1\"] = 0.2396\n",
    "CGSA_DICT_STAT[\"KLCH\"][\"LP\"][\"SB10K\"][\"micro-F1\"] = 0.512032\n",
    "CGSA_DICT_STAT[\"KLCH\"][\"NC\"][\"SB10K\"][\"macro-F1\"] = 0.2144\n",
    "CGSA_DICT_STAT[\"KLCH\"][\"NC\"][\"SB10K\"][\"micro-F1\"] = 0.522727\n",
    "CGSA_DICT_STAT[\"KLCH\"][\"PCA\"][\"SB10K\"][\"macro-F1\"] = 0.2346\n",
    "CGSA_DICT_STAT[\"KLCH\"][\"PCA\"][\"SB10K\"][\"micro-F1\"] = 0.512701\n",
    "CGSA_DICT_STAT[\"KLCH\"][\"RR$_{lblprop}$\"][\"SB10K\"][\"macro-F1\"] = 0.3257\n",
    "CGSA_DICT_STAT[\"KLCH\"][\"RR$_{lblprop}$\"][\"SB10K\"][\"micro-F1\"] = 0.692513\n",
    "CGSA_DICT_STAT[\"KLCH\"][\"RR$_{mincut}$\"][\"SB10K\"][\"macro-F1\"] = 0.2179\n",
    "CGSA_DICT_STAT[\"KLCH\"][\"RR$_{mincut}$\"][\"SB10K\"][\"micro-F1\"] = 0.367647\n",
    "CGSA_DICT_STAT[\"KLCH\"][\"SEV\"][\"SB10K\"][\"macro-F1\"] = 0.1741\n",
    "CGSA_DICT_STAT[\"KLCH\"][\"SEV\"][\"SB10K\"][\"micro-F1\"] = 0.526070\n",
    "CGSA_DICT_STAT[\"KLCH\"][\"SWS\"][\"SB10K\"][\"macro-F1\"] = 0.2113\n",
    "CGSA_DICT_STAT[\"KLCH\"][\"SWS\"][\"SB10K\"][\"micro-F1\"] = 0.598262\n",
    "CGSA_DICT_STAT[\"KLCH\"][\"TKM\"][\"SB10K\"][\"macro-F1\"] = 0.1944\n",
    "CGSA_DICT_STAT[\"KLCH\"][\"TKM\"][\"SB10K\"][\"micro-F1\"] = 0.522727\n",
    "CGSA_DICT_STAT[\"KLCH\"][\"TNG\"][\"SB10K\"][\"macro-F1\"] = 0.2062\n",
    "CGSA_DICT_STAT[\"KLCH\"][\"TNG\"][\"SB10K\"][\"micro-F1\"] = 0.494652\n",
    "CGSA_DICT_STAT[\"KLCH\"][\"VEL\"][\"SB10K\"][\"macro-F1\"] = 0.2094\n",
    "CGSA_DICT_STAT[\"KLCH\"][\"VEL\"][\"SB10K\"][\"micro-F1\"] = 0.518048\n",
    "CGSA_DICT_STAT[\"KLCH\"][\"VO\"][\"SB10K\"][\"macro-F1\"] = 0.1932\n",
    "CGSA_DICT_STAT[\"KLCH\"][\"VO\"][\"SB10K\"][\"micro-F1\"] = 0.529412\n",
    "CGSA_DICT_STAT[\"KLCH\"][\"ZRCH\"][\"SB10K\"][\"macro-F1\"] = 0.2347\n",
    "CGSA_DICT_STAT[\"KLCH\"][\"ZRCH\"][\"SB10K\"][\"micro-F1\"] = 0.606283"
   ]
  },
  {
   "cell_type": "markdown",
   "metadata": {},
   "source": [
    "## Mohammad et al. (2013)"
   ]
  },
  {
   "cell_type": "markdown",
   "metadata": {},
   "source": [
    "### PotTS"
   ]
  },
  {
   "cell_type": "code",
   "execution_count": 30,
   "metadata": {},
   "outputs": [],
   "source": [
    "# Mohammad et al. (2013)\n",
    "CGSA_DICT_STAT[\"MHM\"][\"AR\"][\"PotTS\"][\"macro-F1\"] = 0.6621\n",
    "CGSA_DICT_STAT[\"MHM\"][\"AR\"][\"PotTS\"][\"micro-F1\"] = 0.714754\n",
    "CGSA_DICT_STAT[\"MHM\"][\"BG\"][\"PotTS\"][\"macro-F1\"] = 0.6604\n",
    "CGSA_DICT_STAT[\"MHM\"][\"BG\"][\"PotTS\"][\"micro-F1\"] = 0.711475\n",
    "CGSA_DICT_STAT[\"MHM\"][\"ES\"][\"PotTS\"][\"macro-F1\"] = 0.6566\n",
    "CGSA_DICT_STAT[\"MHM\"][\"ES\"][\"PotTS\"][\"micro-F1\"] = 0.710164\n",
    "CGSA_DICT_STAT[\"MHM\"][\"GPC\"][\"PotTS\"][\"macro-F1\"] = 0.6589\n",
    "CGSA_DICT_STAT[\"MHM\"][\"GPC\"][\"PotTS\"][\"micro-F1\"] = 0.713443\n",
    "CGSA_DICT_STAT[\"MHM\"][\"HL\"][\"PotTS\"][\"macro-F1\"] = 0.6615\n",
    "CGSA_DICT_STAT[\"MHM\"][\"HL\"][\"PotTS\"][\"micro-F1\"] = 0.716066\n",
    "CGSA_DICT_STAT[\"MHM\"][\"KH\"][\"PotTS\"][\"macro-F1\"] = 0.6609\n",
    "CGSA_DICT_STAT[\"MHM\"][\"KH\"][\"PotTS\"][\"micro-F1\"] = 0.712787\n",
    "CGSA_DICT_STAT[\"MHM\"][\"KIR\"][\"PotTS\"][\"macro-F1\"] = 0.6502\n",
    "CGSA_DICT_STAT[\"MHM\"][\"KIR\"][\"PotTS\"][\"micro-F1\"] = 0.706885\n",
    "CGSA_DICT_STAT[\"MHM\"][\"$k$-NN\"][\"PotTS\"][\"macro-F1\"] = 0.6685\n",
    "CGSA_DICT_STAT[\"MHM\"][\"$k$-NN\"][\"PotTS\"][\"micro-F1\"] = 0.715410\n",
    "CGSA_DICT_STAT[\"MHM\"][\"LP\"][\"PotTS\"][\"macro-F1\"] = 0.6776\n",
    "CGSA_DICT_STAT[\"MHM\"][\"LP\"][\"PotTS\"][\"micro-F1\"] = 0.728525\n",
    "CGSA_DICT_STAT[\"MHM\"][\"NC\"][\"PotTS\"][\"macro-F1\"] = 0.6529\n",
    "CGSA_DICT_STAT[\"MHM\"][\"NC\"][\"PotTS\"][\"micro-F1\"] = 0.705574\n",
    "CGSA_DICT_STAT[\"MHM\"][\"PCA\"][\"PotTS\"][\"macro-F1\"] = 0.6592\n",
    "CGSA_DICT_STAT[\"MHM\"][\"PCA\"][\"PotTS\"][\"micro-F1\"] = 0.718689\n",
    "CGSA_DICT_STAT[\"MHM\"][\"RR$_{lblprop}$\"][\"PotTS\"][\"macro-F1\"] = 0.6551\n",
    "CGSA_DICT_STAT[\"MHM\"][\"RR$_{lblprop}$\"][\"PotTS\"][\"micro-F1\"] = 0.709508\n",
    "CGSA_DICT_STAT[\"MHM\"][\"RR$_{mincut}$\"][\"PotTS\"][\"macro-F1\"] = 0.6618\n",
    "CGSA_DICT_STAT[\"MHM\"][\"RR$_{mincut}$\"][\"PotTS\"][\"micro-F1\"] = 0.714098\n",
    "CGSA_DICT_STAT[\"MHM\"][\"SEV\"][\"PotTS\"][\"macro-F1\"] = 0.6488\n",
    "CGSA_DICT_STAT[\"MHM\"][\"SEV\"][\"PotTS\"][\"micro-F1\"] = 0.704262\n",
    "CGSA_DICT_STAT[\"MHM\"][\"SWS\"][\"PotTS\"][\"macro-F1\"] = 0.6637\n",
    "CGSA_DICT_STAT[\"MHM\"][\"SWS\"][\"PotTS\"][\"micro-F1\"] = 0.717377\n",
    "CGSA_DICT_STAT[\"MHM\"][\"TKM\"][\"PotTS\"][\"macro-F1\"] = 0.6561\n",
    "CGSA_DICT_STAT[\"MHM\"][\"TKM\"][\"PotTS\"][\"micro-F1\"] = 0.710820\n",
    "CGSA_DICT_STAT[\"MHM\"][\"TNG\"][\"PotTS\"][\"macro-F1\"] = 0.6643\n",
    "CGSA_DICT_STAT[\"MHM\"][\"TNG\"][\"PotTS\"][\"micro-F1\"] = 0.716721\n",
    "CGSA_DICT_STAT[\"MHM\"][\"VEL\"][\"PotTS\"][\"macro-F1\"] = 0.6546\n",
    "CGSA_DICT_STAT[\"MHM\"][\"VEL\"][\"PotTS\"][\"micro-F1\"] = 0.711475\n",
    "CGSA_DICT_STAT[\"MHM\"][\"VO\"][\"PotTS\"][\"macro-F1\"] = 0.6574\n",
    "CGSA_DICT_STAT[\"MHM\"][\"VO\"][\"PotTS\"][\"micro-F1\"] = 0.710820\n",
    "CGSA_DICT_STAT[\"MHM\"][\"ZRCH\"][\"PotTS\"][\"macro-F1\"] = 0.6672\n",
    "CGSA_DICT_STAT[\"MHM\"][\"ZRCH\"][\"PotTS\"][\"micro-F1\"] = 0.718689"
   ]
  },
  {
   "cell_type": "markdown",
   "metadata": {},
   "source": [
    "### SB10k"
   ]
  },
  {
   "cell_type": "code",
   "execution_count": 31,
   "metadata": {},
   "outputs": [],
   "source": [
    "# Mohammad et al. (2013)\n",
    "CGSA_DICT_STAT[\"MHM\"][\"AR\"][\"SB10K\"][\"macro-F1\"] = 0.\n",
    "CGSA_DICT_STAT[\"MHM\"][\"AR\"][\"SB10K\"][\"micro-F1\"] = 0.\n",
    "CGSA_DICT_STAT[\"MHM\"][\"BG\"][\"SB10K\"][\"macro-F1\"] = 0.\n",
    "CGSA_DICT_STAT[\"MHM\"][\"BG\"][\"SB10K\"][\"micro-F1\"] = 0.\n",
    "CGSA_DICT_STAT[\"MHM\"][\"ES\"][\"SB10K\"][\"macro-F1\"] = 0.\n",
    "CGSA_DICT_STAT[\"MHM\"][\"ES\"][\"SB10K\"][\"micro-F1\"] = 0.\n",
    "CGSA_DICT_STAT[\"MHM\"][\"GPC\"][\"SB10K\"][\"macro-F1\"] = 0.\n",
    "CGSA_DICT_STAT[\"MHM\"][\"GPC\"][\"SB10K\"][\"micro-F1\"] = 0.\n",
    "CGSA_DICT_STAT[\"MHM\"][\"HL\"][\"SB10K\"][\"macro-F1\"] = 0.\n",
    "CGSA_DICT_STAT[\"MHM\"][\"HL\"][\"SB10K\"][\"micro-F1\"] = 0.\n",
    "CGSA_DICT_STAT[\"MHM\"][\"KH\"][\"SB10K\"][\"macro-F1\"] = 0.\n",
    "CGSA_DICT_STAT[\"MHM\"][\"KH\"][\"SB10K\"][\"micro-F1\"] = 0.\n",
    "CGSA_DICT_STAT[\"MHM\"][\"KIR\"][\"SB10K\"][\"macro-F1\"] = 0.\n",
    "CGSA_DICT_STAT[\"MHM\"][\"KIR\"][\"SB10K\"][\"micro-F1\"] = 0.\n",
    "CGSA_DICT_STAT[\"MHM\"][\"$k$-NN\"][\"SB10K\"][\"macro-F1\"] = 0.\n",
    "CGSA_DICT_STAT[\"MHM\"][\"$k$-NN\"][\"SB10K\"][\"micro-F1\"] = 0.\n",
    "CGSA_DICT_STAT[\"MHM\"][\"LP\"][\"SB10K\"][\"macro-F1\"] = 0.\n",
    "CGSA_DICT_STAT[\"MHM\"][\"LP\"][\"SB10K\"][\"micro-F1\"] = 0.\n",
    "CGSA_DICT_STAT[\"MHM\"][\"NC\"][\"SB10K\"][\"macro-F1\"] = 0.\n",
    "CGSA_DICT_STAT[\"MHM\"][\"NC\"][\"SB10K\"][\"micro-F1\"] = 0.\n",
    "CGSA_DICT_STAT[\"MHM\"][\"PCA\"][\"SB10K\"][\"macro-F1\"] = 0.\n",
    "CGSA_DICT_STAT[\"MHM\"][\"PCA\"][\"SB10K\"][\"micro-F1\"] = 0.\n",
    "CGSA_DICT_STAT[\"MHM\"][\"RR$_{lblprop}$\"][\"SB10K\"][\"macro-F1\"] = 0.\n",
    "CGSA_DICT_STAT[\"MHM\"][\"RR$_{lblprop}$\"][\"SB10K\"][\"micro-F1\"] = 0.\n",
    "CGSA_DICT_STAT[\"MHM\"][\"RR$_{mincut}$\"][\"SB10K\"][\"macro-F1\"] = 0.\n",
    "CGSA_DICT_STAT[\"MHM\"][\"RR$_{mincut}$\"][\"SB10K\"][\"micro-F1\"] = 0.\n",
    "CGSA_DICT_STAT[\"MHM\"][\"SEV\"][\"SB10K\"][\"macro-F1\"] = 0.\n",
    "CGSA_DICT_STAT[\"MHM\"][\"SEV\"][\"SB10K\"][\"micro-F1\"] = 0.\n",
    "CGSA_DICT_STAT[\"MHM\"][\"SWS\"][\"SB10K\"][\"macro-F1\"] = 0.\n",
    "CGSA_DICT_STAT[\"MHM\"][\"SWS\"][\"SB10K\"][\"micro-F1\"] = 0.\n",
    "CGSA_DICT_STAT[\"MHM\"][\"TKM\"][\"SB10K\"][\"macro-F1\"] = 0.\n",
    "CGSA_DICT_STAT[\"MHM\"][\"TKM\"][\"SB10K\"][\"micro-F1\"] = 0.\n",
    "CGSA_DICT_STAT[\"MHM\"][\"TNG\"][\"SB10K\"][\"macro-F1\"] = 0.\n",
    "CGSA_DICT_STAT[\"MHM\"][\"TNG\"][\"SB10K\"][\"micro-F1\"] = 0.\n",
    "CGSA_DICT_STAT[\"MHM\"][\"VEL\"][\"SB10K\"][\"macro-F1\"] = 0.\n",
    "CGSA_DICT_STAT[\"MHM\"][\"VEL\"][\"SB10K\"][\"micro-F1\"] = 0.\n",
    "CGSA_DICT_STAT[\"MHM\"][\"VO\"][\"SB10K\"][\"macro-F1\"] = 0.\n",
    "CGSA_DICT_STAT[\"MHM\"][\"VO\"][\"SB10K\"][\"micro-F1\"] = 0.\n",
    "CGSA_DICT_STAT[\"MHM\"][\"ZRCH\"][\"SB10K\"][\"macro-F1\"] = 0.\n",
    "CGSA_DICT_STAT[\"MHM\"][\"ZRCH\"][\"SB10K\"][\"micro-F1\"] = 0."
   ]
  },
  {
   "cell_type": "markdown",
   "metadata": {},
   "source": [
    "## Günther et al. (2014)"
   ]
  },
  {
   "cell_type": "markdown",
   "metadata": {},
   "source": [
    "### PotTS"
   ]
  },
  {
   "cell_type": "code",
   "execution_count": 46,
   "metadata": {},
   "outputs": [],
   "source": [
    "# Günther et al. (2014)\n",
    "CGSA_DICT_STAT[\"GNT\"][\"AR\"][\"PotTS\"][\"macro-F1\"] = 0.6162\n",
    "CGSA_DICT_STAT[\"GNT\"][\"AR\"][\"PotTS\"][\"micro-F1\"] = 0.671475\n",
    "CGSA_DICT_STAT[\"GNT\"][\"BG\"][\"PotTS\"][\"macro-F1\"] = 0.6106\n",
    "CGSA_DICT_STAT[\"GNT\"][\"BG\"][\"PotTS\"][\"micro-F1\"] = 0.670164\n",
    "CGSA_DICT_STAT[\"GNT\"][\"ES\"][\"PotTS\"][\"macro-F1\"] = 0.6209\n",
    "CGSA_DICT_STAT[\"GNT\"][\"ES\"][\"PotTS\"][\"micro-F1\"] = 0.679344\n",
    "CGSA_DICT_STAT[\"GNT\"][\"GPC\"][\"PotTS\"][\"macro-F1\"] = 0.6232\n",
    "CGSA_DICT_STAT[\"GNT\"][\"GPC\"][\"PotTS\"][\"micro-F1\"] = 0.680656\n",
    "CGSA_DICT_STAT[\"GNT\"][\"HL\"][\"PotTS\"][\"macro-F1\"] = 0.6093\n",
    "CGSA_DICT_STAT[\"GNT\"][\"HL\"][\"PotTS\"][\"micro-F1\"] = 0.668197\n",
    "CGSA_DICT_STAT[\"GNT\"][\"KH\"][\"PotTS\"][\"macro-F1\"] = 0.6138\n",
    "CGSA_DICT_STAT[\"GNT\"][\"KH\"][\"PotTS\"][\"micro-F1\"] = 0.67082\n",
    "CGSA_DICT_STAT[\"GNT\"][\"KIR\"][\"PotTS\"][\"macro-F1\"] = 0.6226\n",
    "CGSA_DICT_STAT[\"GNT\"][\"KIR\"][\"PotTS\"][\"micro-F1\"] = 0.674754\n",
    "CGSA_DICT_STAT[\"GNT\"][\"$k$-NN\"][\"PotTS\"][\"macro-F1\"] = 0.6242\n",
    "CGSA_DICT_STAT[\"GNT\"][\"$k$-NN\"][\"PotTS\"][\"micro-F1\"] = 0.682623\n",
    "CGSA_DICT_STAT[\"GNT\"][\"LP\"][\"PotTS\"][\"macro-F1\"] = 0.617\n",
    "CGSA_DICT_STAT[\"GNT\"][\"LP\"][\"PotTS\"][\"micro-F1\"] = 0.676066\n",
    "CGSA_DICT_STAT[\"GNT\"][\"NC\"][\"PotTS\"][\"macro-F1\"] = 0.6251\n",
    "CGSA_DICT_STAT[\"GNT\"][\"NC\"][\"PotTS\"][\"micro-F1\"] = 0.677377\n",
    "CGSA_DICT_STAT[\"GNT\"][\"PCA\"][\"PotTS\"][\"macro-F1\"] = 0.613\n",
    "CGSA_DICT_STAT[\"GNT\"][\"PCA\"][\"PotTS\"][\"micro-F1\"] = 0.672131\n",
    "CGSA_DICT_STAT[\"GNT\"][\"RR$_{lblprop}$\"][\"PotTS\"][\"macro-F1\"] = 0.6294\n",
    "CGSA_DICT_STAT[\"GNT\"][\"RR$_{lblprop}$\"][\"PotTS\"][\"micro-F1\"] = 0.680656\n",
    "CGSA_DICT_STAT[\"GNT\"][\"RR$_{mincut}$\"][\"PotTS\"][\"macro-F1\"] = 0.6303\n",
    "CGSA_DICT_STAT[\"GNT\"][\"RR$_{mincut}$\"][\"PotTS\"][\"micro-F1\"] = 0.682623\n",
    "CGSA_DICT_STAT[\"GNT\"][\"SEV\"][\"PotTS\"][\"macro-F1\"] = 0.6092\n",
    "CGSA_DICT_STAT[\"GNT\"][\"SEV\"][\"PotTS\"][\"micro-F1\"] = 0.668197\n",
    "CGSA_DICT_STAT[\"GNT\"][\"SWS\"][\"PotTS\"][\"macro-F1\"] = 0.6155\n",
    "CGSA_DICT_STAT[\"GNT\"][\"SWS\"][\"PotTS\"][\"micro-F1\"] = 0.672787\n",
    "CGSA_DICT_STAT[\"GNT\"][\"TKM\"][\"PotTS\"][\"macro-F1\"] = 0.6225\n",
    "CGSA_DICT_STAT[\"GNT\"][\"TKM\"][\"PotTS\"][\"micro-F1\"] = 0.678689\n",
    "CGSA_DICT_STAT[\"GNT\"][\"TNG\"][\"PotTS\"][\"macro-F1\"] = 0.607\n",
    "CGSA_DICT_STAT[\"GNT\"][\"TNG\"][\"PotTS\"][\"micro-F1\"] = 0.67082\n",
    "CGSA_DICT_STAT[\"GNT\"][\"VEL\"][\"PotTS\"][\"macro-F1\"] = 0.6232\n",
    "CGSA_DICT_STAT[\"GNT\"][\"VEL\"][\"PotTS\"][\"micro-F1\"] = 0.68\n",
    "CGSA_DICT_STAT[\"GNT\"][\"VO\"][\"PotTS\"][\"macro-F1\"] = 0.6185\n",
    "CGSA_DICT_STAT[\"GNT\"][\"VO\"][\"PotTS\"][\"micro-F1\"] = 0.676066\n",
    "CGSA_DICT_STAT[\"GNT\"][\"ZRCH\"][\"PotTS\"][\"macro-F1\"] = 0.6159\n",
    "CGSA_DICT_STAT[\"GNT\"][\"ZRCH\"][\"PotTS\"][\"micro-F1\"] = 0.672787"
   ]
  },
  {
   "cell_type": "markdown",
   "metadata": {},
   "source": [
    "### SB10k"
   ]
  },
  {
   "cell_type": "code",
   "execution_count": 47,
   "metadata": {},
   "outputs": [],
   "source": [
    "# Günther et al. (2014)\n",
    "CGSA_DICT_STAT[\"GNT\"][\"AR\"][\"SB10K\"][\"macro-F1\"] = 0.\n",
    "CGSA_DICT_STAT[\"GNT\"][\"AR\"][\"SB10K\"][\"micro-F1\"] = 0.\n",
    "CGSA_DICT_STAT[\"GNT\"][\"BG\"][\"SB10K\"][\"macro-F1\"] = 0.\n",
    "CGSA_DICT_STAT[\"GNT\"][\"BG\"][\"SB10K\"][\"micro-F1\"] = 0.\n",
    "CGSA_DICT_STAT[\"GNT\"][\"ES\"][\"SB10K\"][\"macro-F1\"] = 0.\n",
    "CGSA_DICT_STAT[\"GNT\"][\"ES\"][\"SB10K\"][\"micro-F1\"] = 0.\n",
    "CGSA_DICT_STAT[\"GNT\"][\"GPC\"][\"SB10K\"][\"macro-F1\"] = 0.\n",
    "CGSA_DICT_STAT[\"GNT\"][\"GPC\"][\"SB10K\"][\"micro-F1\"] = 0.\n",
    "CGSA_DICT_STAT[\"GNT\"][\"HL\"][\"SB10K\"][\"macro-F1\"] = 0.\n",
    "CGSA_DICT_STAT[\"GNT\"][\"HL\"][\"SB10K\"][\"micro-F1\"] = 0.\n",
    "CGSA_DICT_STAT[\"GNT\"][\"KH\"][\"SB10K\"][\"macro-F1\"] = 0.\n",
    "CGSA_DICT_STAT[\"GNT\"][\"KH\"][\"SB10K\"][\"micro-F1\"] = 0.\n",
    "CGSA_DICT_STAT[\"GNT\"][\"KIR\"][\"SB10K\"][\"macro-F1\"] = 0.\n",
    "CGSA_DICT_STAT[\"GNT\"][\"KIR\"][\"SB10K\"][\"micro-F1\"] = 0.\n",
    "CGSA_DICT_STAT[\"GNT\"][\"$k$-NN\"][\"SB10K\"][\"macro-F1\"] = 0.\n",
    "CGSA_DICT_STAT[\"GNT\"][\"$k$-NN\"][\"SB10K\"][\"micro-F1\"] = 0.\n",
    "CGSA_DICT_STAT[\"GNT\"][\"LP\"][\"SB10K\"][\"macro-F1\"] = 0.\n",
    "CGSA_DICT_STAT[\"GNT\"][\"LP\"][\"SB10K\"][\"micro-F1\"] = 0.\n",
    "CGSA_DICT_STAT[\"GNT\"][\"NC\"][\"SB10K\"][\"macro-F1\"] = 0.\n",
    "CGSA_DICT_STAT[\"GNT\"][\"NC\"][\"SB10K\"][\"micro-F1\"] = 0.\n",
    "CGSA_DICT_STAT[\"GNT\"][\"PCA\"][\"SB10K\"][\"macro-F1\"] = 0.\n",
    "CGSA_DICT_STAT[\"GNT\"][\"PCA\"][\"SB10K\"][\"micro-F1\"] = 0.\n",
    "CGSA_DICT_STAT[\"GNT\"][\"RR$_{lblprop}$\"][\"SB10K\"][\"macro-F1\"] = 0.\n",
    "CGSA_DICT_STAT[\"GNT\"][\"RR$_{lblprop}$\"][\"SB10K\"][\"micro-F1\"] = 0.\n",
    "CGSA_DICT_STAT[\"GNT\"][\"RR$_{mincut}$\"][\"SB10K\"][\"macro-F1\"] = 0.\n",
    "CGSA_DICT_STAT[\"GNT\"][\"RR$_{mincut}$\"][\"SB10K\"][\"micro-F1\"] = 0.\n",
    "CGSA_DICT_STAT[\"GNT\"][\"SEV\"][\"SB10K\"][\"macro-F1\"] = 0.\n",
    "CGSA_DICT_STAT[\"GNT\"][\"SEV\"][\"SB10K\"][\"micro-F1\"] = 0.\n",
    "CGSA_DICT_STAT[\"GNT\"][\"SWS\"][\"SB10K\"][\"macro-F1\"] = 0.\n",
    "CGSA_DICT_STAT[\"GNT\"][\"SWS\"][\"SB10K\"][\"micro-F1\"] = 0.\n",
    "CGSA_DICT_STAT[\"GNT\"][\"TKM\"][\"SB10K\"][\"macro-F1\"] = 0.\n",
    "CGSA_DICT_STAT[\"GNT\"][\"TKM\"][\"SB10K\"][\"micro-F1\"] = 0.\n",
    "CGSA_DICT_STAT[\"GNT\"][\"TNG\"][\"SB10K\"][\"macro-F1\"] = 0.\n",
    "CGSA_DICT_STAT[\"GNT\"][\"TNG\"][\"SB10K\"][\"micro-F1\"] = 0.\n",
    "CGSA_DICT_STAT[\"GNT\"][\"VEL\"][\"SB10K\"][\"macro-F1\"] = 0.\n",
    "CGSA_DICT_STAT[\"GNT\"][\"VEL\"][\"SB10K\"][\"micro-F1\"] = 0.\n",
    "CGSA_DICT_STAT[\"GNT\"][\"VO\"][\"SB10K\"][\"macro-F1\"] = 0.\n",
    "CGSA_DICT_STAT[\"GNT\"][\"VO\"][\"SB10K\"][\"micro-F1\"] = 0.\n",
    "CGSA_DICT_STAT[\"GNT\"][\"ZRCH\"][\"SB10K\"][\"macro-F1\"] = 0.\n",
    "CGSA_DICT_STAT[\"GNT\"][\"ZRCH\"][\"SB10K\"][\"micro-F1\"] = 0."
   ]
  },
  {
   "cell_type": "markdown",
   "metadata": {},
   "source": [
    "## Lexicon-Based Attention"
   ]
  },
  {
   "cell_type": "markdown",
   "metadata": {},
   "source": [
    "### PotTS"
   ]
  },
  {
   "cell_type": "code",
   "execution_count": 48,
   "metadata": {},
   "outputs": [],
   "source": [
    "# Lexicon-Based Attention\n",
    "CGSA_DICT_STAT[\"LBA\"][\"AR\"][\"PotTS\"][\"macro-F1\"] = 0.6641\n",
    "CGSA_DICT_STAT[\"LBA\"][\"AR\"][\"PotTS\"][\"micro-F1\"] = 0.712787\n",
    "CGSA_DICT_STAT[\"LBA\"][\"BG\"][\"PotTS\"][\"macro-F1\"] = 0.6114\n",
    "CGSA_DICT_STAT[\"LBA\"][\"BG\"][\"PotTS\"][\"micro-F1\"] = 0.687213\n",
    "CGSA_DICT_STAT[\"LBA\"][\"ES\"][\"PotTS\"][\"macro-F1\"] = 0.6792\n",
    "CGSA_DICT_STAT[\"LBA\"][\"ES\"][\"PotTS\"][\"micro-F1\"] = 0.708197\n",
    "CGSA_DICT_STAT[\"LBA\"][\"GPC\"][\"PotTS\"][\"macro-F1\"] = 0.6\n",
    "CGSA_DICT_STAT[\"LBA\"][\"GPC\"][\"PotTS\"][\"micro-F1\"] = 0.674754\n",
    "CGSA_DICT_STAT[\"LBA\"][\"HL\"][\"PotTS\"][\"macro-F1\"] = 0.6701\n",
    "CGSA_DICT_STAT[\"LBA\"][\"HL\"][\"PotTS\"][\"micro-F1\"] = 0.719344\n",
    "CGSA_DICT_STAT[\"LBA\"][\"KH\"][\"PotTS\"][\"macro-F1\"] = 0.659\n",
    "CGSA_DICT_STAT[\"LBA\"][\"KH\"][\"PotTS\"][\"micro-F1\"] = 0.699016\n",
    "CGSA_DICT_STAT[\"LBA\"][\"KIR\"][\"PotTS\"][\"macro-F1\"] = 0.6771\n",
    "CGSA_DICT_STAT[\"LBA\"][\"KIR\"][\"PotTS\"][\"micro-F1\"] = 0.719344\n",
    "CGSA_DICT_STAT[\"LBA\"][\"$k$-NN\"][\"PotTS\"][\"macro-F1\"] = 0.6767\n",
    "CGSA_DICT_STAT[\"LBA\"][\"$k$-NN\"][\"PotTS\"][\"micro-F1\"] = 0.725902\n",
    "CGSA_DICT_STAT[\"LBA\"][\"LP\"][\"PotTS\"][\"macro-F1\"] = 0.6666\n",
    "CGSA_DICT_STAT[\"LBA\"][\"LP\"][\"PotTS\"][\"micro-F1\"] = 0.708852\n",
    "CGSA_DICT_STAT[\"LBA\"][\"NC\"][\"PotTS\"][\"macro-F1\"] = 0.662\n",
    "CGSA_DICT_STAT[\"LBA\"][\"NC\"][\"PotTS\"][\"micro-F1\"] = 0.712787\n",
    "CGSA_DICT_STAT[\"LBA\"][\"PCA\"][\"PotTS\"][\"macro-F1\"] = 0.6799\n",
    "CGSA_DICT_STAT[\"LBA\"][\"PCA\"][\"PotTS\"][\"micro-F1\"] = 0.737049\n",
    "CGSA_DICT_STAT[\"LBA\"][\"RR$_{lblprop}$\"][\"PotTS\"][\"macro-F1\"] = 0.6741\n",
    "CGSA_DICT_STAT[\"LBA\"][\"RR$_{lblprop}$\"][\"PotTS\"][\"micro-F1\"] = 0.728525\n",
    "CGSA_DICT_STAT[\"LBA\"][\"RR$_{mincut}$\"][\"PotTS\"][\"macro-F1\"] = 0.6799\n",
    "CGSA_DICT_STAT[\"LBA\"][\"RR$_{mincut}$\"][\"PotTS\"][\"micro-F1\"] = 0.722623\n",
    "CGSA_DICT_STAT[\"LBA\"][\"SEV\"][\"PotTS\"][\"macro-F1\"] = 0.6835\n",
    "CGSA_DICT_STAT[\"LBA\"][\"SEV\"][\"PotTS\"][\"micro-F1\"] = 0.718689\n",
    "CGSA_DICT_STAT[\"LBA\"][\"SWS\"][\"PotTS\"][\"macro-F1\"] = 0.6826\n",
    "CGSA_DICT_STAT[\"LBA\"][\"SWS\"][\"PotTS\"][\"micro-F1\"] = 0.728525\n",
    "CGSA_DICT_STAT[\"LBA\"][\"TKM\"][\"PotTS\"][\"macro-F1\"] = 0.6826\n",
    "CGSA_DICT_STAT[\"LBA\"][\"TKM\"][\"PotTS\"][\"micro-F1\"] = 0.72459\n",
    "CGSA_DICT_STAT[\"LBA\"][\"TNG\"][\"PotTS\"][\"macro-F1\"] = 0.6733\n",
    "CGSA_DICT_STAT[\"LBA\"][\"TNG\"][\"PotTS\"][\"micro-F1\"] = 0.714754\n",
    "CGSA_DICT_STAT[\"LBA\"][\"VEL\"][\"PotTS\"][\"macro-F1\"] = 0.6733\n",
    "CGSA_DICT_STAT[\"LBA\"][\"VEL\"][\"PotTS\"][\"micro-F1\"] = 0.721311\n",
    "CGSA_DICT_STAT[\"LBA\"][\"VO\"][\"PotTS\"][\"macro-F1\"] = 0.6535\n",
    "CGSA_DICT_STAT[\"LBA\"][\"VO\"][\"PotTS\"][\"micro-F1\"] = 0.714754\n",
    "CGSA_DICT_STAT[\"LBA\"][\"ZRCH\"][\"PotTS\"][\"macro-F1\"] = 0.6959\n",
    "CGSA_DICT_STAT[\"LBA\"][\"ZRCH\"][\"PotTS\"][\"micro-F1\"] = 0.734426"
   ]
  },
  {
   "cell_type": "markdown",
   "metadata": {},
   "source": [
    "### SB10k"
   ]
  },
  {
   "cell_type": "code",
   "execution_count": 49,
   "metadata": {},
   "outputs": [],
   "source": [
    "# Lexicon-Based Attention\n",
    "CGSA_DICT_STAT[\"LBA\"][\"AR\"][\"SB10K\"][\"macro-F1\"] = 0.\n",
    "CGSA_DICT_STAT[\"LBA\"][\"AR\"][\"SB10K\"][\"micro-F1\"] = 0.\n",
    "CGSA_DICT_STAT[\"LBA\"][\"BG\"][\"SB10K\"][\"macro-F1\"] = 0.\n",
    "CGSA_DICT_STAT[\"LBA\"][\"BG\"][\"SB10K\"][\"micro-F1\"] = 0.\n",
    "CGSA_DICT_STAT[\"LBA\"][\"ES\"][\"SB10K\"][\"macro-F1\"] = 0.\n",
    "CGSA_DICT_STAT[\"LBA\"][\"ES\"][\"SB10K\"][\"micro-F1\"] = 0.\n",
    "CGSA_DICT_STAT[\"LBA\"][\"GPC\"][\"SB10K\"][\"macro-F1\"] = 0.\n",
    "CGSA_DICT_STAT[\"LBA\"][\"GPC\"][\"SB10K\"][\"micro-F1\"] = 0.\n",
    "CGSA_DICT_STAT[\"LBA\"][\"HL\"][\"SB10K\"][\"macro-F1\"] = 0.\n",
    "CGSA_DICT_STAT[\"LBA\"][\"HL\"][\"SB10K\"][\"micro-F1\"] = 0.\n",
    "CGSA_DICT_STAT[\"LBA\"][\"KH\"][\"SB10K\"][\"macro-F1\"] = 0.\n",
    "CGSA_DICT_STAT[\"LBA\"][\"KH\"][\"SB10K\"][\"micro-F1\"] = 0.\n",
    "CGSA_DICT_STAT[\"LBA\"][\"KIR\"][\"SB10K\"][\"macro-F1\"] = 0.\n",
    "CGSA_DICT_STAT[\"LBA\"][\"KIR\"][\"SB10K\"][\"micro-F1\"] = 0.\n",
    "CGSA_DICT_STAT[\"LBA\"][\"$k$-NN\"][\"SB10K\"][\"macro-F1\"] = 0.\n",
    "CGSA_DICT_STAT[\"LBA\"][\"$k$-NN\"][\"SB10K\"][\"micro-F1\"] = 0.\n",
    "CGSA_DICT_STAT[\"LBA\"][\"LP\"][\"SB10K\"][\"macro-F1\"] = 0.\n",
    "CGSA_DICT_STAT[\"LBA\"][\"LP\"][\"SB10K\"][\"micro-F1\"] = 0.\n",
    "CGSA_DICT_STAT[\"LBA\"][\"NC\"][\"SB10K\"][\"macro-F1\"] = 0.\n",
    "CGSA_DICT_STAT[\"LBA\"][\"NC\"][\"SB10K\"][\"micro-F1\"] = 0.\n",
    "CGSA_DICT_STAT[\"LBA\"][\"PCA\"][\"SB10K\"][\"macro-F1\"] = 0.\n",
    "CGSA_DICT_STAT[\"LBA\"][\"PCA\"][\"SB10K\"][\"micro-F1\"] = 0.\n",
    "CGSA_DICT_STAT[\"LBA\"][\"RR$_{lblprop}$\"][\"SB10K\"][\"macro-F1\"] = 0.\n",
    "CGSA_DICT_STAT[\"LBA\"][\"RR$_{lblprop}$\"][\"SB10K\"][\"micro-F1\"] = 0.\n",
    "CGSA_DICT_STAT[\"LBA\"][\"RR$_{mincut}$\"][\"SB10K\"][\"macro-F1\"] = 0.\n",
    "CGSA_DICT_STAT[\"LBA\"][\"RR$_{mincut}$\"][\"SB10K\"][\"micro-F1\"] = 0.\n",
    "CGSA_DICT_STAT[\"LBA\"][\"SEV\"][\"SB10K\"][\"macro-F1\"] = 0.\n",
    "CGSA_DICT_STAT[\"LBA\"][\"SEV\"][\"SB10K\"][\"micro-F1\"] = 0.\n",
    "CGSA_DICT_STAT[\"LBA\"][\"SWS\"][\"SB10K\"][\"macro-F1\"] = 0.\n",
    "CGSA_DICT_STAT[\"LBA\"][\"SWS\"][\"SB10K\"][\"micro-F1\"] = 0.\n",
    "CGSA_DICT_STAT[\"LBA\"][\"TKM\"][\"SB10K\"][\"macro-F1\"] = 0.\n",
    "CGSA_DICT_STAT[\"LBA\"][\"TKM\"][\"SB10K\"][\"micro-F1\"] = 0.\n",
    "CGSA_DICT_STAT[\"LBA\"][\"TNG\"][\"SB10K\"][\"macro-F1\"] = 0.\n",
    "CGSA_DICT_STAT[\"LBA\"][\"TNG\"][\"SB10K\"][\"micro-F1\"] = 0.\n",
    "CGSA_DICT_STAT[\"LBA\"][\"VEL\"][\"SB10K\"][\"macro-F1\"] = 0.\n",
    "CGSA_DICT_STAT[\"LBA\"][\"VEL\"][\"SB10K\"][\"micro-F1\"] = 0.\n",
    "CGSA_DICT_STAT[\"LBA\"][\"VO\"][\"SB10K\"][\"macro-F1\"] = 0.\n",
    "CGSA_DICT_STAT[\"LBA\"][\"VO\"][\"SB10K\"][\"micro-F1\"] = 0.\n",
    "CGSA_DICT_STAT[\"LBA\"][\"ZRCH\"][\"SB10K\"][\"macro-F1\"] = 0.\n",
    "CGSA_DICT_STAT[\"LBA\"][\"ZRCH\"][\"SB10K\"][\"micro-F1\"] = 0."
   ]
  },
  {
   "cell_type": "code",
   "execution_count": 68,
   "metadata": {},
   "outputs": [],
   "source": [
    "POTTS_MACRO_STAT = {\"method\": [], \"dict\": [], \"score\": []}\n",
    "POTTS_MICRO_STAT = {\"method\": [], \"dict\": [], \"score\": []}\n",
    "SB10K_MACRO_STAT = {\"method\": [], \"dict\": [], \"score\": []}\n",
    "SB10K_MICRO_STAT = {\"method\": [], \"dict\": [], \"score\": []}\n",
    "\n",
    "\n",
    "def _append(method, dict_name, macro_f1_potts, micro_f1_potts,\n",
    "           macro_f1_sb10k, micro_f1_sb10k):\n",
    "    for stat in (POTTS_MACRO_STAT, POTTS_MICRO_STAT, SB10K_MACRO_STAT, \n",
    "                 SB10K_MICRO_STAT):\n",
    "        stat[\"method\"].append(method)\n",
    "        stat[\"dict\"].append(dict_name)\n",
    "    POTTS_MACRO_STAT[\"score\"].append(macro_f1_potts)\n",
    "    POTTS_MICRO_STAT[\"score\"].append(micro_f1_potts)\n",
    "    SB10K_MACRO_STAT[\"score\"].append(macro_f1_sb10k)\n",
    "    SB10K_MICRO_STAT[\"score\"].append(micro_f1_sb10k)\n",
    "\n",
    "\n",
    "for method, dict_stat in iteritems(CGSA_DICT_STAT):\n",
    "    for dict_name, stat in iteritems(dict_stat):\n",
    "        _append(method, dict_name, \n",
    "                stat[\"PotTS\"][\"macro-F1\"], \n",
    "                stat[\"PotTS\"][\"micro-F1\"],\n",
    "                stat[\"SB10K\"][\"macro-F1\"], \n",
    "                stat[\"SB10K\"][\"micro-F1\"]\n",
    "               )"
   ]
  },
  {
   "cell_type": "code",
   "execution_count": 69,
   "metadata": {},
   "outputs": [],
   "source": [
    "def dict2df(idict):\n",
    "    idict = pd.DataFrame(idict)\n",
    "    return idict.pivot(\"method\", \"dict\", \"score\")\n",
    "\n",
    "\n",
    "HEATMAP_CMAP = sns.cubehelix_palette(8, start=.5, rot=-.75, as_cmap=True)\n",
    "POTTS_MACRO_STAT = dict2df(POTTS_MACRO_STAT)\n",
    "POTTS_MICRO_STAT = dict2df(POTTS_MICRO_STAT)\n",
    "SB10K_MACRO_STAT = dict2df(SB10K_MACRO_STAT)\n",
    "SB10K_MICRO_STAT = dict2df(SB10K_MICRO_STAT)"
   ]
  },
  {
   "cell_type": "code",
   "execution_count": 70,
   "metadata": {},
   "outputs": [
    {
     "data": {
      "image/png": "[encoded data removed]",
      "text/plain": [
       "<matplotlib.figure.Figure at 0x7f153abe3310>"
      ]
     },
     "metadata": {},
     "output_type": "display_data"
    }
   ],
   "source": [
    "ax = sns.heatmap(POTTS_MACRO_STAT, cmap=HEATMAP_CMAP)"
   ]
  },
  {
   "cell_type": "code",
   "execution_count": 71,
   "metadata": {},
   "outputs": [
    {
     "data": {
      "image/png": "[encoded data removed]",
      "text/plain": [
       "<matplotlib.figure.Figure at 0x7f153a8d3ed0>"
      ]
     },
     "metadata": {},
     "output_type": "display_data"
    }
   ],
   "source": [
    "ax = sns.heatmap(POTTS_MICRO_STAT, cmap=HEATMAP_CMAP)"
   ]
  },
  {
   "cell_type": "code",
   "execution_count": 72,
   "metadata": {},
   "outputs": [
    {
     "data": {
      "image/png": "[encoded data removed]",
      "text/plain": [
       "<matplotlib.figure.Figure at 0x7f153a9a1790>"
      ]
     },
     "metadata": {},
     "output_type": "display_data"
    }
   ],
   "source": [
    "ax = sns.heatmap(SB10K_MACRO_STAT, cmap=HEATMAP_CMAP)"
   ]
  },
  {
   "cell_type": "code",
   "execution_count": 73,
   "metadata": {},
   "outputs": [
    {
     "data": {
      "image/png": "[encoded data removed]",
      "text/plain": [
       "<matplotlib.figure.Figure at 0x7f153b1b4050>"
      ]
     },
     "metadata": {},
     "output_type": "display_data"
    }
   ],
   "source": [
    "ax = sns.heatmap(SB10K_MICRO_STAT, cmap=HEATMAP_CMAP)"
   ]
  },
  {
   "cell_type": "code",
   "execution_count": null,
   "metadata": {},
   "outputs": [],
   "source": []
  }
 ],
 "metadata": {
  "kernelspec": {
   "display_name": "Python 2",
   "language": "python",
   "name": "python2"
  },
  "language_info": {
   "codemirror_mode": {
    "name": "ipython",
    "version": 2
   },
   "file_extension": ".py",
   "mimetype": "text/x-python",
   "name": "python",
   "nbconvert_exporter": "python",
   "pygments_lexer": "ipython2",
   "version": "2.7.12"
  }
 },
 "nbformat": 4,
 "nbformat_minor": 1
}
